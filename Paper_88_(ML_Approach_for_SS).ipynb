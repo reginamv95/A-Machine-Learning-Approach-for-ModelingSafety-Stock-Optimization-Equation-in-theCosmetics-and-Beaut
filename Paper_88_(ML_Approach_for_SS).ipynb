{
  "nbformat": 4,
  "nbformat_minor": 0,
  "metadata": {
    "colab": {
      "name": "Paper 88 (ML Approach for SS).ipynb",
      "provenance": [],
      "collapsed_sections": []
    },
    "kernelspec": {
      "name": "python3",
      "display_name": "Python 3"
    }
  },
  "cells": [
    {
      "cell_type": "markdown",
      "metadata": {
        "id": "DXJ-3lkdhdkJ"
      },
      "source": [
        "# **Formatear datos y crear dataframe**"
      ]
    },
    {
      "cell_type": "code",
      "metadata": {
        "id": "R4hlYijKbDVc"
      },
      "source": [
        "import pandas as pd\n",
        "import numpy as np\n",
        "import matplotlib.pyplot as plt"
      ],
      "execution_count": null,
      "outputs": []
    },
    {
      "cell_type": "code",
      "metadata": {
        "id": "7Hm7iBcQELol"
      },
      "source": [
        "url = \"https://raw.githubusercontent.com/reginamv95/A-Machine-Learning-Approach-for-ModelingSafety-Stock-Optimization-Equation-in-theCosmetics-and-Beaut/main/Safety_Stock_data%20(Paper%2088).csv?token=AP3RNYGSYAZLZJCIB3HTMJLBHAJPE\""
      ],
      "execution_count": null,
      "outputs": []
    },
    {
      "cell_type": "code",
      "metadata": {
        "id": "8d-rM1ocbGaG"
      },
      "source": [
        "data = pd.read_csv(url)"
      ],
      "execution_count": null,
      "outputs": []
    },
    {
      "cell_type": "code",
      "metadata": {
        "colab": {
          "base_uri": "https://localhost:8080/",
          "height": 195
        },
        "id": "sNAtOmDUdIPS",
        "outputId": "85c2640f-a473-4800-81f0-fa2d7b0cbd63"
      },
      "source": [
        "data.head()"
      ],
      "execution_count": null,
      "outputs": [
        {
          "output_type": "execute_result",
          "data": {
            "text/html": [
              "<div>\n",
              "<style scoped>\n",
              "    .dataframe tbody tr th:only-of-type {\n",
              "        vertical-align: middle;\n",
              "    }\n",
              "\n",
              "    .dataframe tbody tr th {\n",
              "        vertical-align: top;\n",
              "    }\n",
              "\n",
              "    .dataframe thead th {\n",
              "        text-align: right;\n",
              "    }\n",
              "</style>\n",
              "<table border=\"1\" class=\"dataframe\">\n",
              "  <thead>\n",
              "    <tr style=\"text-align: right;\">\n",
              "      <th></th>\n",
              "      <th>Product</th>\n",
              "      <th>Type</th>\n",
              "      <th>Life</th>\n",
              "      <th>Category</th>\n",
              "      <th>Safety factor</th>\n",
              "      <th>Forecast error M</th>\n",
              "      <th>Lead time (m)</th>\n",
              "      <th>RLT error (%)</th>\n",
              "      <th>Safety stock (days)</th>\n",
              "    </tr>\n",
              "  </thead>\n",
              "  <tbody>\n",
              "    <tr>\n",
              "      <th>0</th>\n",
              "      <td>V LABIAL COLORISSIMO LD CEREZA</td>\n",
              "      <td>HARMONIZED</td>\n",
              "      <td>50</td>\n",
              "      <td>Lip Makeup</td>\n",
              "      <td>2.33</td>\n",
              "      <td>0.93</td>\n",
              "      <td>1.10</td>\n",
              "      <td>0.23</td>\n",
              "      <td>16.28</td>\n",
              "    </tr>\n",
              "    <tr>\n",
              "      <th>1</th>\n",
              "      <td>V LABIAL COLORISSIMO LD COCOA</td>\n",
              "      <td>HARMONIZED</td>\n",
              "      <td>50</td>\n",
              "      <td>Lip Makeup</td>\n",
              "      <td>2.33</td>\n",
              "      <td>0.00</td>\n",
              "      <td>1.10</td>\n",
              "      <td>0.23</td>\n",
              "      <td>16.28</td>\n",
              "    </tr>\n",
              "    <tr>\n",
              "      <th>2</th>\n",
              "      <td>V LAPIZ DELI DE LABIOS ROJO VINO</td>\n",
              "      <td>HARMONIZED</td>\n",
              "      <td>50</td>\n",
              "      <td>Lip Makeup</td>\n",
              "      <td>1.48</td>\n",
              "      <td>0.66</td>\n",
              "      <td>3.37</td>\n",
              "      <td>0.30</td>\n",
              "      <td>13.28</td>\n",
              "    </tr>\n",
              "    <tr>\n",
              "      <th>3</th>\n",
              "      <td>V LAPIZ DELI DE LABIOS ROSA VIEJO</td>\n",
              "      <td>HARMONIZED</td>\n",
              "      <td>50</td>\n",
              "      <td>Lip Makeup</td>\n",
              "      <td>1.48</td>\n",
              "      <td>0.48</td>\n",
              "      <td>3.37</td>\n",
              "      <td>0.30</td>\n",
              "      <td>13.28</td>\n",
              "    </tr>\n",
              "    <tr>\n",
              "      <th>4</th>\n",
              "      <td>V CORRECTOR CREMOSO NATURAL  4.5G</td>\n",
              "      <td>HARMONIZED</td>\n",
              "      <td>50</td>\n",
              "      <td>Face Makeup</td>\n",
              "      <td>2.33</td>\n",
              "      <td>0.44</td>\n",
              "      <td>1.03</td>\n",
              "      <td>0.30</td>\n",
              "      <td>20.94</td>\n",
              "    </tr>\n",
              "  </tbody>\n",
              "</table>\n",
              "</div>"
            ],
            "text/plain": [
              "                             Product  ... Safety stock (days)\n",
              "0     V LABIAL COLORISSIMO LD CEREZA  ...               16.28\n",
              "1      V LABIAL COLORISSIMO LD COCOA  ...               16.28\n",
              "2   V LAPIZ DELI DE LABIOS ROJO VINO  ...               13.28\n",
              "3  V LAPIZ DELI DE LABIOS ROSA VIEJO  ...               13.28\n",
              "4  V CORRECTOR CREMOSO NATURAL  4.5G  ...               20.94\n",
              "\n",
              "[5 rows x 9 columns]"
            ]
          },
          "metadata": {
            "tags": []
          },
          "execution_count": 4
        }
      ]
    },
    {
      "cell_type": "code",
      "metadata": {
        "colab": {
          "base_uri": "https://localhost:8080/"
        },
        "id": "QdZ9PmpjyBwa",
        "outputId": "136e7348-77ba-4b00-e997-0b24f0f4ab1d"
      },
      "source": [
        "data.info"
      ],
      "execution_count": null,
      "outputs": [
        {
          "output_type": "execute_result",
          "data": {
            "text/plain": [
              "<bound method DataFrame.info of                                Product  ... Safety stock (days)\n",
              "0       V LABIAL COLORISSIMO LD CEREZA  ...               16.28\n",
              "1        V LABIAL COLORISSIMO LD COCOA  ...               16.28\n",
              "2     V LAPIZ DELI DE LABIOS ROJO VINO  ...               13.28\n",
              "3    V LAPIZ DELI DE LABIOS ROSA VIEJO  ...               13.28\n",
              "4    V CORRECTOR CREMOSO NATURAL  4.5G  ...               20.94\n",
              "..                                 ...  ...                 ...\n",
              "357      V ESM EFECTO GEL HECHIZO 14ml  ...               20.94\n",
              "358     V ESM EFECTO GEL DESTELLO 14ml  ...               20.94\n",
              "359      V ESM EFECTO GEL TERNURA 14ml  ...               20.94\n",
              "360        V ESM EFECTO GEL UNICA 14ml  ...               20.94\n",
              "361       V ESM EFECTO GEL LATINA 14ml  ...               20.94\n",
              "\n",
              "[362 rows x 9 columns]>"
            ]
          },
          "metadata": {
            "tags": []
          },
          "execution_count": 5
        }
      ]
    },
    {
      "cell_type": "code",
      "metadata": {
        "colab": {
          "base_uri": "https://localhost:8080/"
        },
        "id": "eQ0lyr5-xCq0",
        "outputId": "35ff3b0e-55bf-4fad-e1ee-8afaf8352a35"
      },
      "source": [
        "data.Category.unique()"
      ],
      "execution_count": null,
      "outputs": [
        {
          "output_type": "execute_result",
          "data": {
            "text/plain": [
              "array(['Lip Makeup', 'Face Makeup', 'Eye Makeup', 'Nail Makeup'],\n",
              "      dtype=object)"
            ]
          },
          "metadata": {
            "tags": []
          },
          "execution_count": 6
        }
      ]
    },
    {
      "cell_type": "code",
      "metadata": {
        "id": "IgJ9AqnHxQq-"
      },
      "source": [
        "#creando los subgrupos por categoría\n",
        "\n",
        "lip_makeup_data = data[data[\"Category\"] == \"Lip Makeup\"]"
      ],
      "execution_count": null,
      "outputs": []
    },
    {
      "cell_type": "code",
      "metadata": {
        "colab": {
          "base_uri": "https://localhost:8080/"
        },
        "id": "J7tl-KVdxsIY",
        "outputId": "2a3cee9e-5d3c-413c-be0b-c9ae2a626c3e"
      },
      "source": [
        "lip_makeup_data.info"
      ],
      "execution_count": null,
      "outputs": [
        {
          "output_type": "execute_result",
          "data": {
            "text/plain": [
              "<bound method DataFrame.info of                                Product  ... Safety stock (days)\n",
              "0       V LABIAL COLORISSIMO LD CEREZA  ...               16.28\n",
              "1        V LABIAL COLORISSIMO LD COCOA  ...               16.28\n",
              "2     V LAPIZ DELI DE LABIOS ROJO VINO  ...               13.28\n",
              "3    V LAPIZ DELI DE LABIOS ROSA VIEJO  ...               13.28\n",
              "64   V LABIAL COLORISSIMO LD VINO CHIC  ...               16.28\n",
              "..                                 ...  ...                 ...\n",
              "321      LAB SUP COL BRILL ATREVIDA 4G  ...               10.33\n",
              "322     LAB SUP COL BRILL TENTADORA 4G  ...               10.33\n",
              "323       LAB SUP COL BRILL CURIOSA 4G  ...               10.33\n",
              "324        LAB SUP COL BRILL SEGURA 4G  ...               10.33\n",
              "325     LAB SUP COL BRILL CHOCOLATE 4G  ...               10.33\n",
              "\n",
              "[73 rows x 9 columns]>"
            ]
          },
          "metadata": {
            "tags": []
          },
          "execution_count": 8
        }
      ]
    },
    {
      "cell_type": "code",
      "metadata": {
        "id": "HBwpSeOVyITX"
      },
      "source": [
        "face_makeup_data = data[data[\"Category\"] == \"Face Makeup\"]"
      ],
      "execution_count": null,
      "outputs": []
    },
    {
      "cell_type": "code",
      "metadata": {
        "colab": {
          "base_uri": "https://localhost:8080/"
        },
        "id": "iIWqbzzvyNg3",
        "outputId": "0a778c8a-9baa-4a25-90c1-7c04d43d6ded"
      },
      "source": [
        "face_makeup_data.info"
      ],
      "execution_count": null,
      "outputs": [
        {
          "output_type": "execute_result",
          "data": {
            "text/plain": [
              "<bound method DataFrame.info of                                  Product  ... Safety stock (days)\n",
              "4      V CORRECTOR CREMOSO NATURAL  4.5G  ...               20.94\n",
              "5         V CORRECTOR CREMOSO BEIGE 4.5G  ...               20.94\n",
              "6       V CORRECTOR CREMOSO CASTANO 4.5G  ...               20.94\n",
              "7         V CORRECTOR CREMOSO ARENA 4.5G  ...               20.94\n",
              "8       V POL COMPACTO DE ARROZ VAINILLA  ...               23.26\n",
              "..                                   ...  ...                 ...\n",
              "326     V BASE SUPER COB MATE CLARO 30ml  ...               15.05\n",
              "327    V BASE SUPER COB MATE GITANO 30ml  ...               15.05\n",
              "328     V BASE SUPER COB MATE ARENA 30ml  ...               15.05\n",
              "329      V BASE SUPER COB MATE MIEL 30ml  ...               15.05\n",
              "330  V BASE SUPER COB MATE CARAMELO 30ml  ...               15.05\n",
              "\n",
              "[86 rows x 9 columns]>"
            ]
          },
          "metadata": {
            "tags": []
          },
          "execution_count": 10
        }
      ]
    },
    {
      "cell_type": "code",
      "metadata": {
        "id": "qsAOYuhNyNXm"
      },
      "source": [
        "eye_makeup_data = data[data[\"Category\"] == \"Eye Makeup\"]"
      ],
      "execution_count": null,
      "outputs": []
    },
    {
      "cell_type": "code",
      "metadata": {
        "colab": {
          "base_uri": "https://localhost:8080/"
        },
        "id": "EsHkyerYyaa9",
        "outputId": "a04959cb-48fe-4024-9922-63b5380cb80f"
      },
      "source": [
        "eye_makeup_data.info"
      ],
      "execution_count": null,
      "outputs": [
        {
          "output_type": "execute_result",
          "data": {
            "text/plain": [
              "<bound method DataFrame.info of                                  Product  ... Safety stock (days)\n",
              "21     V FANTASTIC LAPIZ DEL CEJAS CAMEL  ...               20.94\n",
              "22     V FANTASTIC LAPIZ DEL CEJAS CAOBA  ...               20.94\n",
              "54    V SOM SEXTETO CALIDO ATARDECER #20  ...                8.85\n",
              "55        V SOMBRA SEXTETO ROSA NUDE #22  ...                8.85\n",
              "56           V SOMBRA SEXTETO SMOKEY #26  ...               14.76\n",
              "82   V MASC EFECTO PESTANAS DE MUNECA 9G  ...               11.63\n",
              "87     V MASCA-PESTA EFECT TOTAL 6 NEGRO  ...               11.63\n",
              "137   Vogue Colorissimo Liquid Eye Liner  ...               10.33\n",
              "167              V BETUN POMADA CAMEL 4G  ...               23.26\n",
              "168              V BETUN POMADA CAOBA 4G  ...               23.26\n",
              "169    V LAPIZ DELINEADOR DUO CAMEL 1.3G  ...               16.93\n",
              "170    V LAPIZ DELINEADOR DUO CAOBA 1.3G  ...               16.93\n",
              "171          V MASCARA DE CEJAS CAMEL 8G  ...                7.38\n",
              "172          V MASCARA DE CEJAS CAOBA 8G  ...                7.38\n",
              "204       V PESTANA FULL EXTENSION XL 9G  ...                9.40\n",
              "218       V LAPIZ DEL SUPER TRAZOS NEGRO  ...               20.94\n",
              "219   V DELINEADOR LIQ RESSIST NEGRO 4ML  ...               13.17\n",
              "223         V MASCARA VOLUMEN NEGRO 10ML  ...               11.63\n",
              "236        V TINTA DE CEJAS RESIST CAMEL  ...               10.33\n",
              "237        V LAPIZ DEL SUPER TRAZOS CAFE  ...               16.93\n",
              "238    V MASCARA AMOR A PRIMERA VISTA WP  ...               16.28\n",
              "348   V TINTA DE CEJAS RESIST TONO CAOBA  ...               16.28\n",
              "349    V TINTA DE CEJAS RESIST TONO CAFE  ...               16.28\n",
              "\n",
              "[23 rows x 9 columns]>"
            ]
          },
          "metadata": {
            "tags": []
          },
          "execution_count": 12
        }
      ]
    },
    {
      "cell_type": "code",
      "metadata": {
        "id": "5Scn1kqYygb4"
      },
      "source": [
        "nail_makeup_data = data[data[\"Category\"] == \"Nail Makeup\"]"
      ],
      "execution_count": null,
      "outputs": []
    },
    {
      "cell_type": "code",
      "metadata": {
        "colab": {
          "base_uri": "https://localhost:8080/"
        },
        "id": "LWXhk9oWygU4",
        "outputId": "d101cf8d-0b71-4ff2-abbc-039285af70e0"
      },
      "source": [
        "nail_makeup_data.info"
      ],
      "execution_count": null,
      "outputs": [
        {
          "output_type": "execute_result",
          "data": {
            "text/plain": [
              "<bound method DataFrame.info of                                 Product  ... Safety stock (days)\n",
              "23        îV ESMALTE FANTASTIC AGRAZ 42  ...               23.26\n",
              "24   îV ESMALTE FANTASTIC BCO ARMINO 02  ...               23.26\n",
              "25       îV ESMALTE FANTASTIC BRONCE 38  ...               18.81\n",
              "26      îV ESMALTE FANTASTIC CAMPARI 36  ...               23.26\n",
              "27     îV ESMALTE FANTASTIC CAPRICHO 92  ...               23.26\n",
              "..                                  ...  ...                 ...\n",
              "357       V ESM EFECTO GEL HECHIZO 14ml  ...               20.94\n",
              "358      V ESM EFECTO GEL DESTELLO 14ml  ...               20.94\n",
              "359       V ESM EFECTO GEL TERNURA 14ml  ...               20.94\n",
              "360         V ESM EFECTO GEL UNICA 14ml  ...               20.94\n",
              "361        V ESM EFECTO GEL LATINA 14ml  ...               20.94\n",
              "\n",
              "[180 rows x 9 columns]>"
            ]
          },
          "metadata": {
            "tags": []
          },
          "execution_count": 14
        }
      ]
    },
    {
      "cell_type": "markdown",
      "metadata": {
        "id": "-xU8rFbKy9nT"
      },
      "source": [
        "# **Regresión Lineal**"
      ]
    },
    {
      "cell_type": "markdown",
      "metadata": {
        "id": "C62T-ocXzC7g"
      },
      "source": [
        "*Regresión General*"
      ]
    },
    {
      "cell_type": "code",
      "metadata": {
        "colab": {
          "base_uri": "https://localhost:8080/"
        },
        "id": "y6tCTR0ayr4k",
        "outputId": "76287aa6-721d-4c87-98fc-8a88b261ce75"
      },
      "source": [
        "data.columns"
      ],
      "execution_count": null,
      "outputs": [
        {
          "output_type": "execute_result",
          "data": {
            "text/plain": [
              "Index(['Product', 'Type', 'Life', 'Category', 'Safety factor',\n",
              "       'Forecast error M', 'Lead time (m)', 'RLT error (%)',\n",
              "       'Safety stock (days)'],\n",
              "      dtype='object')"
            ]
          },
          "metadata": {
            "tags": []
          },
          "execution_count": 15
        }
      ]
    },
    {
      "cell_type": "code",
      "metadata": {
        "id": "G8imTX0HeBM0"
      },
      "source": [
        "y = data[\"Safety stock (days)\"]"
      ],
      "execution_count": null,
      "outputs": []
    },
    {
      "cell_type": "code",
      "metadata": {
        "id": "nhwHzirMe_hd"
      },
      "source": [
        "x = data[[\"Safety factor\",\"Forecast error M\",\"Lead time (m)\",\"RLT error (%)\"]]"
      ],
      "execution_count": null,
      "outputs": []
    },
    {
      "cell_type": "code",
      "metadata": {
        "colab": {
          "base_uri": "https://localhost:8080/",
          "height": 402
        },
        "id": "5ztRC4VpgJTN",
        "outputId": "984cc69f-cb6a-4892-eaa2-2ac85c81bde2"
      },
      "source": [
        "x"
      ],
      "execution_count": null,
      "outputs": [
        {
          "output_type": "execute_result",
          "data": {
            "text/html": [
              "<div>\n",
              "<style scoped>\n",
              "    .dataframe tbody tr th:only-of-type {\n",
              "        vertical-align: middle;\n",
              "    }\n",
              "\n",
              "    .dataframe tbody tr th {\n",
              "        vertical-align: top;\n",
              "    }\n",
              "\n",
              "    .dataframe thead th {\n",
              "        text-align: right;\n",
              "    }\n",
              "</style>\n",
              "<table border=\"1\" class=\"dataframe\">\n",
              "  <thead>\n",
              "    <tr style=\"text-align: right;\">\n",
              "      <th></th>\n",
              "      <th>Safety factor</th>\n",
              "      <th>Forecast error M</th>\n",
              "      <th>Lead time (m)</th>\n",
              "      <th>RLT error (%)</th>\n",
              "    </tr>\n",
              "  </thead>\n",
              "  <tbody>\n",
              "    <tr>\n",
              "      <th>0</th>\n",
              "      <td>2.33</td>\n",
              "      <td>0.93</td>\n",
              "      <td>1.10</td>\n",
              "      <td>0.23</td>\n",
              "    </tr>\n",
              "    <tr>\n",
              "      <th>1</th>\n",
              "      <td>2.33</td>\n",
              "      <td>0.00</td>\n",
              "      <td>1.10</td>\n",
              "      <td>0.23</td>\n",
              "    </tr>\n",
              "    <tr>\n",
              "      <th>2</th>\n",
              "      <td>1.48</td>\n",
              "      <td>0.66</td>\n",
              "      <td>3.37</td>\n",
              "      <td>0.30</td>\n",
              "    </tr>\n",
              "    <tr>\n",
              "      <th>3</th>\n",
              "      <td>1.48</td>\n",
              "      <td>0.48</td>\n",
              "      <td>3.37</td>\n",
              "      <td>0.30</td>\n",
              "    </tr>\n",
              "    <tr>\n",
              "      <th>4</th>\n",
              "      <td>2.33</td>\n",
              "      <td>0.44</td>\n",
              "      <td>1.03</td>\n",
              "      <td>0.30</td>\n",
              "    </tr>\n",
              "    <tr>\n",
              "      <th>...</th>\n",
              "      <td>...</td>\n",
              "      <td>...</td>\n",
              "      <td>...</td>\n",
              "      <td>...</td>\n",
              "    </tr>\n",
              "    <tr>\n",
              "      <th>357</th>\n",
              "      <td>2.33</td>\n",
              "      <td>0.04</td>\n",
              "      <td>1.03</td>\n",
              "      <td>0.30</td>\n",
              "    </tr>\n",
              "    <tr>\n",
              "      <th>358</th>\n",
              "      <td>2.33</td>\n",
              "      <td>0.22</td>\n",
              "      <td>1.03</td>\n",
              "      <td>0.30</td>\n",
              "    </tr>\n",
              "    <tr>\n",
              "      <th>359</th>\n",
              "      <td>2.33</td>\n",
              "      <td>0.00</td>\n",
              "      <td>1.03</td>\n",
              "      <td>0.30</td>\n",
              "    </tr>\n",
              "    <tr>\n",
              "      <th>360</th>\n",
              "      <td>2.33</td>\n",
              "      <td>0.28</td>\n",
              "      <td>1.03</td>\n",
              "      <td>0.30</td>\n",
              "    </tr>\n",
              "    <tr>\n",
              "      <th>361</th>\n",
              "      <td>2.33</td>\n",
              "      <td>0.26</td>\n",
              "      <td>1.03</td>\n",
              "      <td>0.30</td>\n",
              "    </tr>\n",
              "  </tbody>\n",
              "</table>\n",
              "<p>362 rows × 4 columns</p>\n",
              "</div>"
            ],
            "text/plain": [
              "     Safety factor  Forecast error M  Lead time (m)  RLT error (%)\n",
              "0             2.33              0.93           1.10           0.23\n",
              "1             2.33              0.00           1.10           0.23\n",
              "2             1.48              0.66           3.37           0.30\n",
              "3             1.48              0.48           3.37           0.30\n",
              "4             2.33              0.44           1.03           0.30\n",
              "..             ...               ...            ...            ...\n",
              "357           2.33              0.04           1.03           0.30\n",
              "358           2.33              0.22           1.03           0.30\n",
              "359           2.33              0.00           1.03           0.30\n",
              "360           2.33              0.28           1.03           0.30\n",
              "361           2.33              0.26           1.03           0.30\n",
              "\n",
              "[362 rows x 4 columns]"
            ]
          },
          "metadata": {
            "tags": []
          },
          "execution_count": 18
        }
      ]
    },
    {
      "cell_type": "code",
      "metadata": {
        "colab": {
          "base_uri": "https://localhost:8080/"
        },
        "id": "yOm-JTOWgNjg",
        "outputId": "07791e9c-29f8-4fa8-ecac-831b97c9b586"
      },
      "source": [
        "y"
      ],
      "execution_count": null,
      "outputs": [
        {
          "output_type": "execute_result",
          "data": {
            "text/plain": [
              "0      16.28\n",
              "1      16.28\n",
              "2      13.28\n",
              "3      13.28\n",
              "4      20.94\n",
              "       ...  \n",
              "357    20.94\n",
              "358    20.94\n",
              "359    20.94\n",
              "360    20.94\n",
              "361    20.94\n",
              "Name: Safety stock (days), Length: 362, dtype: float64"
            ]
          },
          "metadata": {
            "tags": []
          },
          "execution_count": 19
        }
      ]
    },
    {
      "cell_type": "code",
      "metadata": {
        "id": "AA7Azc1--v-V"
      },
      "source": [
        "from sklearn.linear_model import LinearRegression\n",
        "from sklearn.model_selection import train_test_split\n",
        "from sklearn.preprocessing import StandardScaler \n",
        "from sklearn.metrics import mean_squared_error"
      ],
      "execution_count": null,
      "outputs": []
    },
    {
      "cell_type": "code",
      "metadata": {
        "id": "yF8sbpxc-0xN"
      },
      "source": [
        "#partición de datos\n",
        "\n",
        "x_train, x_test, y_train, y_test = train_test_split(x, y, test_size=0.3)"
      ],
      "execution_count": null,
      "outputs": []
    },
    {
      "cell_type": "code",
      "metadata": {
        "id": "8RFfmH4Csk6h"
      },
      "source": [
        "#estandarizando de datos\n",
        "\n",
        "standarization = StandardScaler()\n",
        "standarization.fit(x_train)\n",
        "\n",
        "z_train = standarization.transform(x_train)\n",
        "z_test = standarization.transform(x_test)"
      ],
      "execution_count": null,
      "outputs": []
    },
    {
      "cell_type": "markdown",
      "metadata": {
        "id": "Jq7gWumR_TEZ"
      },
      "source": [
        "*Training*"
      ]
    },
    {
      "cell_type": "code",
      "metadata": {
        "colab": {
          "base_uri": "https://localhost:8080/"
        },
        "id": "CcbFrz4H_Oie",
        "outputId": "6bc884d8-b42f-4c37-a998-182087aaea70"
      },
      "source": [
        "model = LinearRegression() \n",
        "model.fit(z_train,y_train)"
      ],
      "execution_count": null,
      "outputs": [
        {
          "output_type": "execute_result",
          "data": {
            "text/plain": [
              "LinearRegression(copy_X=True, fit_intercept=True, n_jobs=None, normalize=False)"
            ]
          },
          "metadata": {
            "tags": []
          },
          "execution_count": 23
        }
      ]
    },
    {
      "cell_type": "markdown",
      "metadata": {
        "id": "T-4If7VRAIVq"
      },
      "source": [
        "*Testing*"
      ]
    },
    {
      "cell_type": "code",
      "metadata": {
        "colab": {
          "base_uri": "https://localhost:8080/"
        },
        "id": "cac5aEMC_ceV",
        "outputId": "081f7b8e-cee2-4d82-d07d-a3164e273926"
      },
      "source": [
        "y_pred = model.predict(z_test) \n",
        "print(model.intercept_,model.coef_)\n",
        "print(\"r^2=\",model.score(z_test,y_test))\n",
        "\n",
        "mse = mean_squared_error(y_test, y_pred) \n",
        "\n",
        "print(\"MSE %.2f\" % mse)"
      ],
      "execution_count": null,
      "outputs": [
        {
          "output_type": "stream",
          "text": [
            "18.174110671936763 [ 2.75824602e+00  1.79297806e-03 -4.12156272e-02  3.18873034e+00]\n",
            "r^2= 0.9860566248927647\n",
            "MSE 0.33\n"
          ],
          "name": "stdout"
        }
      ]
    },
    {
      "cell_type": "code",
      "metadata": {
        "colab": {
          "base_uri": "https://localhost:8080/",
          "height": 279
        },
        "id": "plYDNwt2jR3t",
        "outputId": "7601167d-b4f2-4c64-8c27-bd7e83b89364"
      },
      "source": [
        "plt.scatter(y_test,y_pred,color=\"black\")\n",
        "plt.plot([0,np.max(y_test)],[0,np.max(y_test)],color=\"blue\")\n",
        "plt.xlabel(\"Original\")\n",
        "plt.ylabel(\"Estimates\")\n",
        "plt.show()"
      ],
      "execution_count": null,
      "outputs": [
        {
          "output_type": "display_data",
          "data": {
            "image/png": "[encoded data removed]",
            "text/plain": [
              "<Figure size 432x288 with 1 Axes>"
            ]
          },
          "metadata": {
            "tags": [],
            "needs_background": "light"
          }
        }
      ]
    },
    {
      "cell_type": "markdown",
      "metadata": {
        "id": "MJi-aIxk86YK"
      },
      "source": [
        "*Evaluación de Modelos*"
      ]
    },
    {
      "cell_type": "code",
      "metadata": {
        "colab": {
          "base_uri": "https://localhost:8080/"
        },
        "id": "kBXOzp5F8H_P",
        "outputId": "5501ecbb-58e4-441a-ab44-118e7d9b1336"
      },
      "source": [
        "# Evaluación de residuos (evaluación de entrenamiento)\n",
        "accuracy_train = model.score(z_train,y_train)\n",
        "print('Exactitud en entrenamiento:', accuracy_train)\n",
        "\n",
        "# Evaluación de prueba\n",
        "accuracy_test = model.score(z_test,y_test)\n",
        "print('Exactitud en prueba:', accuracy_test)"
      ],
      "execution_count": null,
      "outputs": [
        {
          "output_type": "stream",
          "text": [
            "Exactitud en entrenamiento: 0.9891750917014235\n",
            "Exactitud en prueba: 0.9860566248927647\n"
          ],
          "name": "stdout"
        }
      ]
    },
    {
      "cell_type": "markdown",
      "metadata": {
        "id": "ThXhJ27PzUUI"
      },
      "source": [
        "*Regresión por Categoría*"
      ]
    },
    {
      "cell_type": "markdown",
      "metadata": {
        "id": "BzFfYDak9qmN"
      },
      "source": [
        "*Training*"
      ]
    },
    {
      "cell_type": "code",
      "metadata": {
        "colab": {
          "base_uri": "https://localhost:8080/"
        },
        "id": "vc-ejENKquGW",
        "outputId": "b050689f-6cb7-4495-8721-04eef4fcdfc0"
      },
      "source": [
        "#Eye Makeup\n",
        "\n",
        "y_eye = eye_makeup_data[\"Safety stock (days)\"]\n",
        "x_eye = eye_makeup_data[[\"Safety factor\",\"Forecast error M\",\"Lead time (m)\",\"RLT error (%)\"]]\n",
        "\n",
        "x_train_eye, x_test_eye, y_train_eye, y_test_eye = train_test_split(x_eye, y_eye, test_size=0.3)\n",
        "\n",
        "standarization = StandardScaler()\n",
        "standarization.fit(x_train_eye)\n",
        "\n",
        "z_train_eye = standarization.transform(x_train_eye)\n",
        "z_test_eye = standarization.transform(x_test_eye)\n",
        "\n",
        "model_eye = LinearRegression() \n",
        "model_eye.fit(z_train_eye,y_train_eye)\n"
      ],
      "execution_count": null,
      "outputs": [
        {
          "output_type": "execute_result",
          "data": {
            "text/plain": [
              "LinearRegression(copy_X=True, fit_intercept=True, n_jobs=None, normalize=False)"
            ]
          },
          "metadata": {
            "tags": []
          },
          "execution_count": 27
        }
      ]
    },
    {
      "cell_type": "markdown",
      "metadata": {
        "id": "PBiQ9Vkxr1YG"
      },
      "source": [
        "*Testing*"
      ]
    },
    {
      "cell_type": "code",
      "metadata": {
        "colab": {
          "base_uri": "https://localhost:8080/",
          "height": 330
        },
        "id": "7gwJoBAdr0jA",
        "outputId": "cf64b4ea-2690-45de-cc5c-05f551dda27d"
      },
      "source": [
        "y_pred_eye = model_eye.predict(z_test_eye) \n",
        "print(model_eye.intercept_,model_eye.coef_)\n",
        "print(\"r^2=\",model_eye.score(z_test_eye,y_test_eye))\n",
        "\n",
        "mse = mean_squared_error(y_test_eye, y_pred_eye) \n",
        "\n",
        "print(\"MSE %.2f\" % mse)\n",
        "\n",
        "plt.scatter(y_test_eye,y_pred_eye,color=\"black\")\n",
        "plt.plot([0,np.max(y_test_eye)],[0,np.max(y_test_eye)],color=\"blue\")\n",
        "plt.xlabel(\"Original\")\n",
        "plt.ylabel(\"Estimates\")\n",
        "plt.show()"
      ],
      "execution_count": null,
      "outputs": [
        {
          "output_type": "stream",
          "text": [
            "15.322500000000002 [ 2.56225679 -0.01594026  0.03657248  3.91127858]\n",
            "r^2= 0.971573221660452\n",
            "MSE 0.32\n"
          ],
          "name": "stdout"
        },
        {
          "output_type": "display_data",
          "data": {
            "image/png": "[encoded data removed]",
            "text/plain": [
              "<Figure size 432x288 with 1 Axes>"
            ]
          },
          "metadata": {
            "tags": [],
            "needs_background": "light"
          }
        }
      ]
    },
    {
      "cell_type": "markdown",
      "metadata": {
        "id": "c4uKK2AcwG0_"
      },
      "source": [
        "*Evaluación de modelos*"
      ]
    },
    {
      "cell_type": "code",
      "metadata": {
        "colab": {
          "base_uri": "https://localhost:8080/"
        },
        "id": "DNHarThVwGDH",
        "outputId": "e4341089-fcea-4b20-d05a-f51dfac1a835"
      },
      "source": [
        "# Evaluación de residuos (evaluación de entrenamiento)\n",
        "accuracy_train_eye = model_eye.score(z_train_eye,y_train_eye)\n",
        "print('Exactitud en entrenamiento:', accuracy_train_eye)\n",
        "\n",
        "# Evaluación de prueba\n",
        "accuracy_test_eye = model_eye.score(z_test_eye,y_test_eye)\n",
        "print('Exactitud en prueba:', accuracy_test_eye)"
      ],
      "execution_count": null,
      "outputs": [
        {
          "output_type": "stream",
          "text": [
            "Exactitud en entrenamiento: 0.9820258749818125\n",
            "Exactitud en prueba: 0.971573221660452\n"
          ],
          "name": "stdout"
        }
      ]
    },
    {
      "cell_type": "markdown",
      "metadata": {
        "id": "2zcZna-7w3yW"
      },
      "source": [
        "*Training*"
      ]
    },
    {
      "cell_type": "code",
      "metadata": {
        "colab": {
          "base_uri": "https://localhost:8080/"
        },
        "id": "N4x6Y0j10NdK",
        "outputId": "b533620a-8673-402f-9526-04ad4c8ab8f6"
      },
      "source": [
        "#Face Makeup\n",
        "\n",
        "y_face = face_makeup_data[\"Safety stock (days)\"]\n",
        "x_face = face_makeup_data[[\"Safety factor\",\"Forecast error M\",\"Lead time (m)\",\"RLT error (%)\"]]\n",
        "\n",
        "x_train_face, x_test_face, y_train_face, y_test_face = train_test_split(x_face, y_face, test_size=0.3)\n",
        "\n",
        "standarization = StandardScaler()\n",
        "standarization.fit(x_train_face)\n",
        "\n",
        "z_train_face = standarization.transform(x_train_face)\n",
        "z_test_face = standarization.transform(x_test_face)\n",
        "\n",
        "model_face = LinearRegression() \n",
        "model_face.fit(z_train_face,y_train_face)\n"
      ],
      "execution_count": null,
      "outputs": [
        {
          "output_type": "execute_result",
          "data": {
            "text/plain": [
              "LinearRegression(copy_X=True, fit_intercept=True, n_jobs=None, normalize=False)"
            ]
          },
          "metadata": {
            "tags": []
          },
          "execution_count": 30
        }
      ]
    },
    {
      "cell_type": "markdown",
      "metadata": {
        "id": "Ujzgj8hAyBUS"
      },
      "source": [
        "*Testing*"
      ]
    },
    {
      "cell_type": "code",
      "metadata": {
        "colab": {
          "base_uri": "https://localhost:8080/",
          "height": 330
        },
        "id": "1Q3PHZVdyDTa",
        "outputId": "d1ee608d-d828-488b-b46f-0b8b20b6713a"
      },
      "source": [
        "y_pred_face = model_face.predict(z_test_face) \n",
        "print(model_face.intercept_,model_face.coef_)\n",
        "print(\"r^2=\",model_face.score(z_test_face,y_test_face))\n",
        "\n",
        "mse = mean_squared_error(y_test_face, y_pred_face) \n",
        "\n",
        "print(\"MSE %.2f\" % mse)\n",
        "\n",
        "plt.scatter(y_test_face,y_pred_face,color=\"black\")\n",
        "plt.plot([0,np.max(y_test_face)],[0,np.max(y_test_face)],color=\"blue\")\n",
        "plt.xlabel(\"Original\")\n",
        "plt.ylabel(\"Estimates\") \n",
        "plt.show()"
      ],
      "execution_count": null,
      "outputs": [
        {
          "output_type": "stream",
          "text": [
            "17.764333333333326 [ 2.42817621  0.12381508 -0.08095387  4.2192782 ]\n",
            "r^2= 0.985073381156424\n",
            "MSE 0.39\n"
          ],
          "name": "stdout"
        },
        {
          "output_type": "display_data",
          "data": {
            "image/png": "[encoded data removed]",
            "text/plain": [
              "<Figure size 432x288 with 1 Axes>"
            ]
          },
          "metadata": {
            "tags": [],
            "needs_background": "light"
          }
        }
      ]
    },
    {
      "cell_type": "markdown",
      "metadata": {
        "id": "TzeqtDSMyvx-"
      },
      "source": [
        "*Evaluación de modelos*"
      ]
    },
    {
      "cell_type": "code",
      "metadata": {
        "colab": {
          "base_uri": "https://localhost:8080/"
        },
        "id": "wBlngrFSyzWp",
        "outputId": "e4e8e156-a2b5-463e-cfc4-99ffb787945c"
      },
      "source": [
        "# Evaluación de residuos (evaluación de entrenamiento)\n",
        "accuracy_train_face = model_face.score(z_train_face,y_train_face)\n",
        "print('Exactitud en entrenamiento:', accuracy_train_face)\n",
        "\n",
        "# Evaluación de prueba\n",
        "accuracy_test_face = model_face.score(z_test_face,y_test_face)\n",
        "print('Exactitud en prueba:', accuracy_test_face)"
      ],
      "execution_count": null,
      "outputs": [
        {
          "output_type": "stream",
          "text": [
            "Exactitud en entrenamiento: 0.990315559465404\n",
            "Exactitud en prueba: 0.985073381156424\n"
          ],
          "name": "stdout"
        }
      ]
    },
    {
      "cell_type": "markdown",
      "metadata": {
        "id": "9PQtVHsSzCdG"
      },
      "source": [
        "*Training*"
      ]
    },
    {
      "cell_type": "code",
      "metadata": {
        "colab": {
          "base_uri": "https://localhost:8080/"
        },
        "id": "-K3-l-fJzE3g",
        "outputId": "767dc9f9-1b5e-4719-84fa-89943d3da86b"
      },
      "source": [
        "#Lip Makeup\n",
        "\n",
        "y_lip = lip_makeup_data[\"Safety stock (days)\"]\n",
        "x_lip = lip_makeup_data[[\"Safety factor\",\"Forecast error M\",\"Lead time (m)\",\"RLT error (%)\"]]\n",
        "\n",
        "x_train_lip, x_test_lip, y_train_lip, y_test_lip = train_test_split(x_lip, y_lip, test_size=0.3)\n",
        "\n",
        "standarization = StandardScaler()\n",
        "standarization.fit(x_train_lip)\n",
        "\n",
        "z_train_lip = standarization.transform(x_train_lip)\n",
        "z_test_lip = standarization.transform(x_test_lip)\n",
        "\n",
        "model_lip = LinearRegression() \n",
        "model_lip.fit(z_train_lip,y_train_lip)"
      ],
      "execution_count": null,
      "outputs": [
        {
          "output_type": "execute_result",
          "data": {
            "text/plain": [
              "LinearRegression(copy_X=True, fit_intercept=True, n_jobs=None, normalize=False)"
            ]
          },
          "metadata": {
            "tags": []
          },
          "execution_count": 33
        }
      ]
    },
    {
      "cell_type": "markdown",
      "metadata": {
        "id": "GccBZKCizamg"
      },
      "source": [
        "*Testing*"
      ]
    },
    {
      "cell_type": "code",
      "metadata": {
        "colab": {
          "base_uri": "https://localhost:8080/",
          "height": 330
        },
        "id": "_sE9Kof7ze5G",
        "outputId": "e5584bf9-3332-4ef4-f832-5bf0718f6e1d"
      },
      "source": [
        "y_pred_lip = model_lip.predict(z_test_lip) \n",
        "print(model_lip.intercept_,model_lip.coef_)\n",
        "print(\"r^2=\",model_lip.score(z_test_lip,y_test_lip))\n",
        "\n",
        "mse = mean_squared_error(y_test_lip, y_pred_lip) \n",
        "\n",
        "print(\"MSE %.2f\" % mse)\n",
        "\n",
        "plt.scatter(y_test_lip,y_pred_lip,color=\"black\")\n",
        "plt.plot([0,np.max(y_test_lip)],[0,np.max(y_test_lip)],color=\"blue\")\n",
        "plt.xlabel(\"Original\")\n",
        "plt.ylabel(\"Estimates\") \n",
        "plt.show() "
      ],
      "execution_count": null,
      "outputs": [
        {
          "output_type": "stream",
          "text": [
            "14.174901960784316 [ 2.60708254  0.03091838 -0.30437578  3.36767267]\n",
            "r^2= 0.9988602890376383\n",
            "MSE 0.03\n"
          ],
          "name": "stdout"
        },
        {
          "output_type": "display_data",
          "data": {
            "image/png": "[encoded data removed]",
            "text/plain": [
              "<Figure size 432x288 with 1 Axes>"
            ]
          },
          "metadata": {
            "tags": [],
            "needs_background": "light"
          }
        }
      ]
    },
    {
      "cell_type": "markdown",
      "metadata": {
        "id": "pAy7svrJzxVG"
      },
      "source": [
        "*Evaluación de modelos*\n",
        "\n"
      ]
    },
    {
      "cell_type": "code",
      "metadata": {
        "colab": {
          "base_uri": "https://localhost:8080/"
        },
        "id": "s8qfBd0zz2pP",
        "outputId": "90086613-45ef-4e9f-b3a6-eaa1847ee893"
      },
      "source": [
        "# Evaluación de residuos (evaluación de entrenamiento)\n",
        "accuracy_train_lip = model_lip.score(z_train_lip,y_train_lip)\n",
        "print('Exactitud en entrenamiento:', accuracy_train_lip)\n",
        "\n",
        "# Evaluación de prueba\n",
        "accuracy_test_lip = model_lip.score(z_test_lip,y_test_lip)\n",
        "print('Exactitud en prueba:', accuracy_test_lip)"
      ],
      "execution_count": null,
      "outputs": [
        {
          "output_type": "stream",
          "text": [
            "Exactitud en entrenamiento: 0.9971379944049057\n",
            "Exactitud en prueba: 0.9988602890376383\n"
          ],
          "name": "stdout"
        }
      ]
    },
    {
      "cell_type": "markdown",
      "metadata": {
        "id": "OgSKKgH00IOk"
      },
      "source": [
        "*Training*"
      ]
    },
    {
      "cell_type": "code",
      "metadata": {
        "colab": {
          "base_uri": "https://localhost:8080/"
        },
        "id": "iC2wixXA0KNh",
        "outputId": "3fb1f885-3003-4f4f-c343-f197789a7184"
      },
      "source": [
        "#Nail Makeup\n",
        "\n",
        "y_nail = nail_makeup_data[\"Safety stock (days)\"]\n",
        "x_nail = nail_makeup_data[[\"Safety factor\",\"Forecast error M\",\"Lead time (m)\",\"RLT error (%)\"]]\n",
        "\n",
        "x_train_nail, x_test_nail, y_train_nail, y_test_nail = train_test_split(x_nail, y_nail, test_size=0.3)\n",
        "\n",
        "standarization = StandardScaler()\n",
        "standarization.fit(x_train_nail)\n",
        "\n",
        "z_train_nail = standarization.transform(x_train_nail)\n",
        "z_test_nail = standarization.transform(x_test_nail)\n",
        "\n",
        "model_nail = LinearRegression() \n",
        "model_nail.fit(z_train_nail,y_train_nail)"
      ],
      "execution_count": null,
      "outputs": [
        {
          "output_type": "execute_result",
          "data": {
            "text/plain": [
              "LinearRegression(copy_X=True, fit_intercept=True, n_jobs=None, normalize=False)"
            ]
          },
          "metadata": {
            "tags": []
          },
          "execution_count": 36
        }
      ]
    },
    {
      "cell_type": "markdown",
      "metadata": {
        "id": "0s2hejH10afX"
      },
      "source": [
        "*Testing*"
      ]
    },
    {
      "cell_type": "code",
      "metadata": {
        "colab": {
          "base_uri": "https://localhost:8080/",
          "height": 330
        },
        "id": "fdWw8IKg0ceT",
        "outputId": "d9dcad51-eebe-41d0-f54c-556967e837a2"
      },
      "source": [
        "y_pred_nail = model_nail.predict(z_test_nail) \n",
        "print(model_nail.intercept_,model_nail.coef_)\n",
        "print(\"r^2=\",model_nail.score(z_test_nail,y_test_nail))\n",
        "\n",
        "mse = mean_squared_error(y_test_nail, y_pred_nail) \n",
        "\n",
        "print(\"MSE %.2f\" % mse)\n",
        "\n",
        "plt.scatter(y_test_nail,y_pred_nail,color=\"black\")\n",
        "plt.plot([0,np.max(y_test_nail)],[0,np.max(y_test_nail)],color=\"blue\")\n",
        "plt.xlabel(\"Original\")\n",
        "plt.ylabel(\"Estimates\") \n",
        "plt.show() "
      ],
      "execution_count": null,
      "outputs": [
        {
          "output_type": "stream",
          "text": [
            "20.057460317460304 [ 2.76813555e+00  3.83295547e-04 -4.49686070e-02  1.01480387e+00]\n",
            "r^2= 0.9980355327391964\n",
            "MSE 0.02\n"
          ],
          "name": "stdout"
        },
        {
          "output_type": "display_data",
          "data": {
            "image/png": "[encoded data removed]",
            "text/plain": [
              "<Figure size 432x288 with 1 Axes>"
            ]
          },
          "metadata": {
            "tags": [],
            "needs_background": "light"
          }
        }
      ]
    },
    {
      "cell_type": "markdown",
      "metadata": {
        "id": "-cqn7pGv0uSF"
      },
      "source": [
        "*Evaluación Modelos*"
      ]
    },
    {
      "cell_type": "code",
      "metadata": {
        "colab": {
          "base_uri": "https://localhost:8080/"
        },
        "id": "4K9l1BUf0xzx",
        "outputId": "6ee46907-af7c-451c-b939-0df69ef92139"
      },
      "source": [
        "# Evaluación de residuos (evaluación de entrenamiento)\n",
        "accuracy_train_nail = model_nail.score(z_train_nail,y_train_nail)\n",
        "print('Exactitud en entrenamiento:', accuracy_train_nail)\n",
        "\n",
        "# Evaluación de prueba\n",
        "accuracy_test_nail = model_nail.score(z_test_nail,y_test_nail)\n",
        "print('Exactitud en prueba:', accuracy_test_nail)"
      ],
      "execution_count": null,
      "outputs": [
        {
          "output_type": "stream",
          "text": [
            "Exactitud en entrenamiento: 0.9983192679955817\n",
            "Exactitud en prueba: 0.9980355327391964\n"
          ],
          "name": "stdout"
        }
      ]
    },
    {
      "cell_type": "markdown",
      "metadata": {
        "id": "wnO6EaR_n5kH"
      },
      "source": [
        "# **Árbol de decisión**"
      ]
    },
    {
      "cell_type": "markdown",
      "metadata": {
        "id": "7mEnW9eF2pQk"
      },
      "source": [
        "*Árbol General*"
      ]
    },
    {
      "cell_type": "markdown",
      "metadata": {
        "id": "bCXzi3Lv6Zlj"
      },
      "source": [
        "*Training*"
      ]
    },
    {
      "cell_type": "code",
      "metadata": {
        "colab": {
          "base_uri": "https://localhost:8080/"
        },
        "id": "QAtrWfucn7t9",
        "outputId": "cc6983e9-3b08-411a-ee7c-04cfcf87dd3f"
      },
      "source": [
        "from sklearn import tree\n",
        "from sklearn.preprocessing import StandardScaler\n",
        "\n",
        "x_arbol = x\n",
        "y_arbol = y\n",
        "\n",
        "x_train_arbol, x_test_arbol, y_train_arbol, y_test_arbol = train_test_split(x_arbol, y_arbol, test_size=0.3)\n",
        "\n",
        "standarization = StandardScaler()\n",
        "standarization.fit(x_train_arbol)\n",
        "\n",
        "z_train_arbol = standarization.transform(x_train_arbol)\n",
        "z_test_arbol = standarization.transform(x_test_arbol)\n",
        "\n",
        "\n",
        "model_arbol = tree.DecisionTreeRegressor() \n",
        "model_arbol.fit(z_train_arbol,y_train_arbol)"
      ],
      "execution_count": null,
      "outputs": [
        {
          "output_type": "execute_result",
          "data": {
            "text/plain": [
              "DecisionTreeRegressor(ccp_alpha=0.0, criterion='mse', max_depth=None,\n",
              "                      max_features=None, max_leaf_nodes=None,\n",
              "                      min_impurity_decrease=0.0, min_impurity_split=None,\n",
              "                      min_samples_leaf=1, min_samples_split=2,\n",
              "                      min_weight_fraction_leaf=0.0, presort='deprecated',\n",
              "                      random_state=None, splitter='best')"
            ]
          },
          "metadata": {
            "tags": []
          },
          "execution_count": 39
        }
      ]
    },
    {
      "cell_type": "markdown",
      "metadata": {
        "id": "dJy5jvOQ7Wy2"
      },
      "source": [
        "*Testing*"
      ]
    },
    {
      "cell_type": "code",
      "metadata": {
        "colab": {
          "base_uri": "https://localhost:8080/",
          "height": 447
        },
        "id": "oyUSUNOZoARy",
        "outputId": "eaadb7bd-29b3-4ab6-d1d5-daf89b351a9f"
      },
      "source": [
        "y_pred_arbol = model_arbol.predict(z_test_arbol) \n",
        "print(y_pred_arbol)\n",
        "\n",
        "plt.scatter(y_test_arbol,y_pred_arbol,color=\"black\")\n",
        "plt.plot([0,np.max(y_test_arbol)],[0,np.max(y_test_arbol)],color=\"blue\")\n",
        "plt.xlabel(\"Original\")\n",
        "plt.ylabel(\"Estimates\")\n",
        "plt.show()"
      ],
      "execution_count": null,
      "outputs": [
        {
          "output_type": "stream",
          "text": [
            "[23.26 13.96 23.26 20.94 20.94 20.94 16.93 14.76 18.81 10.33  7.38 23.26\n",
            " 11.28 18.81 23.26 20.94 18.81 20.94 23.26 16.93 15.05 16.28 11.28 11.63\n",
            " 23.26 11.28 15.05 11.28 18.81 10.33 13.17 10.33 16.93 16.28 25.59 23.26\n",
            " 13.96 13.96 23.26 23.26 23.26 11.28 16.93  8.85 18.81 13.96 20.94 18.81\n",
            " 16.28 20.94 10.33 23.26 23.26 23.26 20.94 10.33 10.33 16.93 23.26 16.93\n",
            " 13.96 16.93 23.26 23.26 11.28 13.28 16.93 16.93 18.81  8.85 10.33 23.26\n",
            " 11.28 20.94 20.94 20.94 13.28 11.28 14.76 20.94 10.33 13.17 13.28 23.26\n",
            " 18.81 23.26 16.93 18.81 10.33 23.26 10.33 13.28 23.26 18.61 13.28 16.93\n",
            " 23.26 10.33 23.26 10.33  8.85 16.93 13.96 23.26 23.26 10.33 23.26 23.26\n",
            " 23.26]\n"
          ],
          "name": "stdout"
        },
        {
          "output_type": "display_data",
          "data": {
            "image/png": "[encoded data removed]",
            "text/plain": [
              "<Figure size 432x288 with 1 Axes>"
            ]
          },
          "metadata": {
            "tags": [],
            "needs_background": "light"
          }
        }
      ]
    },
    {
      "cell_type": "markdown",
      "metadata": {
        "id": "dmO1Gich-m-9"
      },
      "source": [
        "*Evaluación de modelos*"
      ]
    },
    {
      "cell_type": "code",
      "metadata": {
        "colab": {
          "base_uri": "https://localhost:8080/"
        },
        "id": "1-v_yRnI-p2m",
        "outputId": "e224a1ab-7467-4e1c-cf51-f3a04c13114e"
      },
      "source": [
        "# Evaluación de residuos (evaluación de entrenamiento)\n",
        "accuracy_train_arbol = model_arbol.score(z_train_arbol,y_train_arbol)\n",
        "print('Exactitud en entrenamiento:', accuracy_train_arbol)\n",
        "\n",
        "# Evaluación de prueba\n",
        "accuracy_test_arbol = model_arbol.score(z_test_arbol,y_test_arbol)\n",
        "print('Exactitud en prueba:', accuracy_test_arbol)"
      ],
      "execution_count": null,
      "outputs": [
        {
          "output_type": "stream",
          "text": [
            "Exactitud en entrenamiento: 1.0\n",
            "Exactitud en prueba: 0.9970697096795139\n"
          ],
          "name": "stdout"
        }
      ]
    },
    {
      "cell_type": "markdown",
      "metadata": {
        "id": "NDoacG0D2uVk"
      },
      "source": [
        "*Árbol Eye Makeup*"
      ]
    },
    {
      "cell_type": "markdown",
      "metadata": {
        "id": "tG1qihfg-Laa"
      },
      "source": [
        "*Training*"
      ]
    },
    {
      "cell_type": "code",
      "metadata": {
        "colab": {
          "base_uri": "https://localhost:8080/"
        },
        "id": "QkwBvYoh-LHn",
        "outputId": "174f56cf-49e6-4a38-e763-9cd2f9cf6115"
      },
      "source": [
        "x_arbol_eye = x_eye\n",
        "y_arbol_eye = y_eye\n",
        "\n",
        "x_train_arbol_eye, x_test_arbol_eye, y_train_arbol_eye, y_test_arbol_eye = train_test_split(x_arbol_eye, y_arbol_eye, test_size=0.3)\n",
        "\n",
        "standarization = StandardScaler()\n",
        "standarization.fit(x_train_arbol_eye)\n",
        "\n",
        "z_train_arbol_eye = standarization.transform(x_train_arbol_eye)\n",
        "z_test_arbol_eye = standarization.transform(x_test_arbol_eye)\n",
        "\n",
        "\n",
        "model_arbol_eye = tree.DecisionTreeRegressor() \n",
        "model_arbol_eye.fit(z_train_arbol_eye,y_train_arbol_eye)"
      ],
      "execution_count": null,
      "outputs": [
        {
          "output_type": "execute_result",
          "data": {
            "text/plain": [
              "DecisionTreeRegressor(ccp_alpha=0.0, criterion='mse', max_depth=None,\n",
              "                      max_features=None, max_leaf_nodes=None,\n",
              "                      min_impurity_decrease=0.0, min_impurity_split=None,\n",
              "                      min_samples_leaf=1, min_samples_split=2,\n",
              "                      min_weight_fraction_leaf=0.0, presort='deprecated',\n",
              "                      random_state=None, splitter='best')"
            ]
          },
          "metadata": {
            "tags": []
          },
          "execution_count": 42
        }
      ]
    },
    {
      "cell_type": "markdown",
      "metadata": {
        "id": "84O2tsSK-hb_"
      },
      "source": [
        "*Testing*"
      ]
    },
    {
      "cell_type": "code",
      "metadata": {
        "colab": {
          "base_uri": "https://localhost:8080/",
          "height": 296
        },
        "id": "Wqp_pZjc-jV7",
        "outputId": "33ae67b1-2406-4796-adcc-f787127f3aa9"
      },
      "source": [
        "y_pred_arbol_eye = model_arbol_eye.predict(z_test_arbol_eye) \n",
        "print(y_pred_arbol_eye)\n",
        "\n",
        "plt.scatter(y_test_arbol_eye,y_pred_arbol_eye,color=\"black\")\n",
        "plt.plot([0,np.max(y_test_arbol_eye)],[0,np.max(y_test_arbol_eye)],color=\"blue\")\n",
        "plt.xlabel(\"Original\")\n",
        "plt.ylabel(\"Estimates\")\n",
        "plt.show()"
      ],
      "execution_count": null,
      "outputs": [
        {
          "output_type": "stream",
          "text": [
            "[ 7.38 10.33 16.28 13.17 16.28 20.94 16.28]\n"
          ],
          "name": "stdout"
        },
        {
          "output_type": "display_data",
          "data": {
            "image/png": "[encoded data removed]",
            "text/plain": [
              "<Figure size 432x288 with 1 Axes>"
            ]
          },
          "metadata": {
            "tags": [],
            "needs_background": "light"
          }
        }
      ]
    },
    {
      "cell_type": "markdown",
      "metadata": {
        "id": "iRFSil3p_Gz_"
      },
      "source": [
        "*Evaluación de modelos*"
      ]
    },
    {
      "cell_type": "code",
      "metadata": {
        "colab": {
          "base_uri": "https://localhost:8080/"
        },
        "id": "Iiyk-S5f_LlA",
        "outputId": "b12e316f-6d5a-45be-a35a-288a64ae1e6f"
      },
      "source": [
        "# Evaluación de residuos (evaluación de entrenamiento)\n",
        "accuracy_train_arbol_eye = model_arbol_eye.score(z_train_arbol_eye,y_train_arbol_eye)\n",
        "print('Exactitud en entrenamiento:', accuracy_train_arbol_eye)\n",
        "\n",
        "# Evaluación de prueba\n",
        "accuracy_test_arbol_eye = model_arbol_eye.score(z_test_arbol_eye,y_test_arbol_eye)\n",
        "print('Exactitud en prueba:', accuracy_test_arbol_eye)"
      ],
      "execution_count": null,
      "outputs": [
        {
          "output_type": "stream",
          "text": [
            "Exactitud en entrenamiento: 1.0\n",
            "Exactitud en prueba: -0.11040827701071865\n"
          ],
          "name": "stdout"
        }
      ]
    },
    {
      "cell_type": "markdown",
      "metadata": {
        "id": "9ICmouf73beu"
      },
      "source": [
        "*Árbol Face Makeup*"
      ]
    },
    {
      "cell_type": "markdown",
      "metadata": {
        "id": "PHuAvf69_WxJ"
      },
      "source": [
        "*Training*"
      ]
    },
    {
      "cell_type": "code",
      "metadata": {
        "colab": {
          "base_uri": "https://localhost:8080/"
        },
        "id": "iNkmx4nD_YXi",
        "outputId": "42cfb62a-0f50-42d6-84d1-bfeb96b93cc1"
      },
      "source": [
        "x_arbol_face = x_face\n",
        "y_arbol_face = y_face\n",
        "\n",
        "x_train_arbol_face, x_test_arbol_face, y_train_arbol_face, y_test_arbol_face = train_test_split(x_arbol_face, y_arbol_face, test_size=0.3)\n",
        "\n",
        "standarization = StandardScaler()\n",
        "standarization.fit(x_train_arbol_face)\n",
        "\n",
        "z_train_arbol_face = standarization.transform(x_train_arbol_face)\n",
        "z_test_arbol_face = standarization.transform(x_test_arbol_face)\n",
        "\n",
        "\n",
        "model_arbol_face = tree.DecisionTreeRegressor() \n",
        "model_arbol_face.fit(z_train_arbol_face,y_train_arbol_face)"
      ],
      "execution_count": null,
      "outputs": [
        {
          "output_type": "execute_result",
          "data": {
            "text/plain": [
              "DecisionTreeRegressor(ccp_alpha=0.0, criterion='mse', max_depth=None,\n",
              "                      max_features=None, max_leaf_nodes=None,\n",
              "                      min_impurity_decrease=0.0, min_impurity_split=None,\n",
              "                      min_samples_leaf=1, min_samples_split=2,\n",
              "                      min_weight_fraction_leaf=0.0, presort='deprecated',\n",
              "                      random_state=None, splitter='best')"
            ]
          },
          "metadata": {
            "tags": []
          },
          "execution_count": 45
        }
      ]
    },
    {
      "cell_type": "markdown",
      "metadata": {
        "id": "4-ijwNYC_noJ"
      },
      "source": [
        "*Testing*"
      ]
    },
    {
      "cell_type": "code",
      "metadata": {
        "colab": {
          "base_uri": "https://localhost:8080/",
          "height": 330
        },
        "id": "YeV4Yu_u_piY",
        "outputId": "e46185d8-5ef8-4bb1-cc5a-783536c11315"
      },
      "source": [
        "y_pred_arbol_face = model_arbol_face.predict(z_test_arbol_face) \n",
        "print(y_pred_arbol_face)\n",
        "\n",
        "plt.scatter(y_test_arbol_face,y_pred_arbol_face,color=\"black\")\n",
        "plt.plot([0,np.max(y_test_arbol_face)],[0,np.max(y_test_arbol_face)],color=\"blue\")\n",
        "plt.xlabel(\"Original\")\n",
        "plt.ylabel(\"Estimates\")\n",
        "plt.show()"
      ],
      "execution_count": null,
      "outputs": [
        {
          "output_type": "stream",
          "text": [
            "[13.96 23.26 13.96 23.26 14.76 23.26 20.94 13.96 27.92 18.81 23.26 23.26\n",
            "  8.85 23.26 18.61 23.26  8.85 18.61 13.96 16.93 23.26 23.26 15.05 14.76\n",
            " 11.28 23.26]\n"
          ],
          "name": "stdout"
        },
        {
          "output_type": "display_data",
          "data": {
            "image/png": "[encoded data removed]",
            "text/plain": [
              "<Figure size 432x288 with 1 Axes>"
            ]
          },
          "metadata": {
            "tags": [],
            "needs_background": "light"
          }
        }
      ]
    },
    {
      "cell_type": "markdown",
      "metadata": {
        "id": "RsoH5QBl_zz5"
      },
      "source": [
        "*Evaluación de modelos*"
      ]
    },
    {
      "cell_type": "code",
      "metadata": {
        "colab": {
          "base_uri": "https://localhost:8080/"
        },
        "id": "FWN2awC0_3K8",
        "outputId": "6005d540-8eb7-423a-d91e-f6b7c208eaea"
      },
      "source": [
        "# Evaluación de residuos (evaluación de entrenamiento)\n",
        "accuracy_train_arbol_face = model_arbol_face.score(z_train_arbol_face,y_train_arbol_face)\n",
        "print('Exactitud en entrenamiento:', accuracy_train_arbol_face)\n",
        "\n",
        "# Evaluación de prueba\n",
        "accuracy_test_arbol_face = model_arbol_face.score(z_test_arbol_face,y_test_arbol_face)\n",
        "print('Exactitud en prueba:', accuracy_test_arbol_face)"
      ],
      "execution_count": null,
      "outputs": [
        {
          "output_type": "stream",
          "text": [
            "Exactitud en entrenamiento: 1.0\n",
            "Exactitud en prueba: 1.0\n"
          ],
          "name": "stdout"
        }
      ]
    },
    {
      "cell_type": "markdown",
      "metadata": {
        "id": "oGi2rA6M3yAn"
      },
      "source": [
        "*Árbol Lip Makeup*"
      ]
    },
    {
      "cell_type": "markdown",
      "metadata": {
        "id": "LKT7pnGSAEnH"
      },
      "source": [
        "*Training*"
      ]
    },
    {
      "cell_type": "code",
      "metadata": {
        "colab": {
          "base_uri": "https://localhost:8080/"
        },
        "id": "wh8zy_geAGhu",
        "outputId": "902ee919-6e85-442a-bf1c-58287901ca77"
      },
      "source": [
        "x_arbol_lip = x_lip\n",
        "y_arbol_lip = y_lip\n",
        "\n",
        "x_train_arbol_lip, x_test_arbol_lip, y_train_arbol_lip, y_test_arbol_lip = train_test_split(x_arbol_lip, y_arbol_lip, test_size=0.3)\n",
        "\n",
        "standarization = StandardScaler()\n",
        "standarization.fit(x_train_arbol_lip)\n",
        "\n",
        "z_train_arbol_lip = standarization.transform(x_train_arbol_lip)\n",
        "z_test_arbol_lip = standarization.transform(x_test_arbol_lip)\n",
        "\n",
        "\n",
        "model_arbol_lip = tree.DecisionTreeRegressor() \n",
        "model_arbol_lip.fit(z_train_arbol_lip,y_train_arbol_lip)"
      ],
      "execution_count": null,
      "outputs": [
        {
          "output_type": "execute_result",
          "data": {
            "text/plain": [
              "DecisionTreeRegressor(ccp_alpha=0.0, criterion='mse', max_depth=None,\n",
              "                      max_features=None, max_leaf_nodes=None,\n",
              "                      min_impurity_decrease=0.0, min_impurity_split=None,\n",
              "                      min_samples_leaf=1, min_samples_split=2,\n",
              "                      min_weight_fraction_leaf=0.0, presort='deprecated',\n",
              "                      random_state=None, splitter='best')"
            ]
          },
          "metadata": {
            "tags": []
          },
          "execution_count": 48
        }
      ]
    },
    {
      "cell_type": "markdown",
      "metadata": {
        "id": "eHHVv9r-AZvz"
      },
      "source": [
        "*Testing*"
      ]
    },
    {
      "cell_type": "code",
      "metadata": {
        "colab": {
          "base_uri": "https://localhost:8080/",
          "height": 313
        },
        "id": "WIfTJDwzAbWZ",
        "outputId": "31ac200f-0dfc-48eb-ff02-290175b2dd04"
      },
      "source": [
        "y_pred_arbol_lip = model_arbol_lip.predict(z_test_arbol_lip) \n",
        "print(y_pred_arbol_lip)\n",
        "\n",
        "plt.scatter(y_test_arbol_lip,y_pred_arbol_lip,color=\"black\")\n",
        "plt.plot([0,np.max(y_test_arbol_lip)],[0,np.max(y_test_arbol_lip)],color=\"blue\")\n",
        "plt.xlabel(\"Original\")\n",
        "plt.ylabel(\"Estimates\")\n",
        "plt.show() "
      ],
      "execution_count": null,
      "outputs": [
        {
          "output_type": "stream",
          "text": [
            "[20.94 13.17 11.28 23.26 16.28 10.33 23.26 13.28 11.28 11.28 13.96 10.33\n",
            " 16.28 16.28 13.28 13.17 13.96 10.33 11.28 23.26 23.26 10.33]\n"
          ],
          "name": "stdout"
        },
        {
          "output_type": "display_data",
          "data": {
            "image/png": "[encoded data removed]",
            "text/plain": [
              "<Figure size 432x288 with 1 Axes>"
            ]
          },
          "metadata": {
            "tags": [],
            "needs_background": "light"
          }
        }
      ]
    },
    {
      "cell_type": "markdown",
      "metadata": {
        "id": "wo3TJ2qwAl66"
      },
      "source": [
        "*Evaluación de modelos*"
      ]
    },
    {
      "cell_type": "code",
      "metadata": {
        "colab": {
          "base_uri": "https://localhost:8080/"
        },
        "id": "cD_6l7XfAoAB",
        "outputId": "049c97df-f8b8-47dc-fb3b-db405f91eacb"
      },
      "source": [
        "# Evaluación de residuos (evaluación de entrenamiento)\n",
        "accuracy_train_arbol_lip = model_arbol_lip.score(z_train_arbol_lip,y_train_arbol_lip)\n",
        "print('Exactitud en entrenamiento:', accuracy_train_arbol_lip)\n",
        "\n",
        "# Evaluación de prueba\n",
        "accuracy_test_arbol_lip = model_arbol_lip.score(z_test_arbol_lip,y_test_arbol_lip)\n",
        "print('Exactitud en prueba:', accuracy_test_arbol_lip)"
      ],
      "execution_count": null,
      "outputs": [
        {
          "output_type": "stream",
          "text": [
            "Exactitud en entrenamiento: 1.0\n",
            "Exactitud en prueba: 1.0\n"
          ],
          "name": "stdout"
        }
      ]
    },
    {
      "cell_type": "markdown",
      "metadata": {
        "id": "KoapLwxk4HrR"
      },
      "source": [
        "*Árbol Nail Makeup*"
      ]
    },
    {
      "cell_type": "markdown",
      "metadata": {
        "id": "VD8hyxcsAzwU"
      },
      "source": [
        "*Training*"
      ]
    },
    {
      "cell_type": "code",
      "metadata": {
        "colab": {
          "base_uri": "https://localhost:8080/"
        },
        "id": "7-YOK_YbA1yP",
        "outputId": "97bad663-f977-4644-8fd6-fc094082768a"
      },
      "source": [
        "x_arbol_nail = x_nail\n",
        "y_arbol_nail = y_nail\n",
        "\n",
        "x_train_arbol_nail, x_test_arbol_nail, y_train_arbol_nail, y_test_arbol_nail = train_test_split(x_arbol_nail, y_arbol_nail, test_size=0.3)\n",
        "\n",
        "standarization = StandardScaler()\n",
        "standarization.fit(x_train_arbol_nail)\n",
        "\n",
        "z_train_arbol_nail = standarization.transform(x_train_arbol_nail)\n",
        "z_test_arbol_nail = standarization.transform(x_test_arbol_nail)\n",
        "\n",
        "\n",
        "model_arbol_nail = tree.DecisionTreeRegressor() \n",
        "model_arbol_nail.fit(z_train_arbol_nail,y_train_arbol_nail)"
      ],
      "execution_count": null,
      "outputs": [
        {
          "output_type": "execute_result",
          "data": {
            "text/plain": [
              "DecisionTreeRegressor(ccp_alpha=0.0, criterion='mse', max_depth=None,\n",
              "                      max_features=None, max_leaf_nodes=None,\n",
              "                      min_impurity_decrease=0.0, min_impurity_split=None,\n",
              "                      min_samples_leaf=1, min_samples_split=2,\n",
              "                      min_weight_fraction_leaf=0.0, presort='deprecated',\n",
              "                      random_state=None, splitter='best')"
            ]
          },
          "metadata": {
            "tags": []
          },
          "execution_count": 51
        }
      ]
    },
    {
      "cell_type": "markdown",
      "metadata": {
        "id": "RSNN1yJSBEeg"
      },
      "source": [
        "*Testing*"
      ]
    },
    {
      "cell_type": "code",
      "metadata": {
        "colab": {
          "base_uri": "https://localhost:8080/",
          "height": 363
        },
        "id": "0R6-pEr-BGMG",
        "outputId": "4e876ed7-5b6c-4113-b6f0-a77f5db128fa"
      },
      "source": [
        "y_pred_arbol_nail = model_arbol_nail.predict(z_test_arbol_nail) \n",
        "print(y_pred_arbol_nail)\n",
        "\n",
        "plt.scatter(y_test_arbol_nail,y_pred_arbol_nail,color=\"black\")\n",
        "plt.plot([0,np.max(y_test_arbol_nail)],[0,np.max(y_test_arbol_nail)],color=\"blue\")\n",
        "plt.xlabel(\"Original\")\n",
        "plt.ylabel(\"Estimates\")\n",
        "plt.show() "
      ],
      "execution_count": null,
      "outputs": [
        {
          "output_type": "stream",
          "text": [
            "[20.94 23.26 20.94 20.94 23.26 16.93 20.94 23.26 23.26 20.94 23.26 23.26\n",
            " 13.28 16.93 18.81 23.26 23.26 23.26 20.94 13.28 13.28 20.94 16.93 16.93\n",
            " 16.93 16.93 18.81 23.26 18.81 13.28 18.81 18.81 23.26 20.94 23.26 16.93\n",
            " 13.28 20.94 20.94 14.76 23.26 16.93 23.26 23.26 18.81 18.81 18.81 20.94\n",
            " 23.26 23.26 23.26 20.94 16.93 16.93]\n"
          ],
          "name": "stdout"
        },
        {
          "output_type": "display_data",
          "data": {
            "image/png": "[encoded data removed]",
            "text/plain": [
              "<Figure size 432x288 with 1 Axes>"
            ]
          },
          "metadata": {
            "tags": [],
            "needs_background": "light"
          }
        }
      ]
    },
    {
      "cell_type": "markdown",
      "metadata": {
        "id": "oC47yVfLBQsC"
      },
      "source": [
        "*Evaluación de modelos*"
      ]
    },
    {
      "cell_type": "code",
      "metadata": {
        "colab": {
          "base_uri": "https://localhost:8080/"
        },
        "id": "wEBysIn0BS_b",
        "outputId": "d9632b7b-e962-4d8d-fc11-ecf5c7076d6d"
      },
      "source": [
        "# Evaluación de residuos (evaluación de entrenamiento)\n",
        "accuracy_train_arbol_nail = model_arbol_nail.score(z_train_arbol_nail,y_train_arbol_nail)\n",
        "print('Exactitud en entrenamiento:', accuracy_train_arbol_nail)\n",
        "\n",
        "# Evaluación de prueba\n",
        "accuracy_test_arbol_nail = model_arbol_nail.score(z_test_arbol_nail,y_test_arbol_nail)\n",
        "print('Exactitud en prueba:', accuracy_test_arbol_nail)"
      ],
      "execution_count": null,
      "outputs": [
        {
          "output_type": "stream",
          "text": [
            "Exactitud en entrenamiento: 1.0\n",
            "Exactitud en prueba: 1.0\n"
          ],
          "name": "stdout"
        }
      ]
    },
    {
      "cell_type": "markdown",
      "metadata": {
        "id": "ZSipdZ1dqE5U"
      },
      "source": [
        "# **Máquinas de Soporte Vectorial**"
      ]
    },
    {
      "cell_type": "code",
      "metadata": {
        "id": "M4hT-hNbo3By"
      },
      "source": [
        "from sklearn import svm"
      ],
      "execution_count": null,
      "outputs": []
    },
    {
      "cell_type": "markdown",
      "metadata": {
        "id": "BUmwDZbrJYJt"
      },
      "source": [
        "*SVM General*"
      ]
    },
    {
      "cell_type": "markdown",
      "metadata": {
        "id": "M4GlcWibBz6Q"
      },
      "source": [
        "*Training*"
      ]
    },
    {
      "cell_type": "code",
      "metadata": {
        "colab": {
          "base_uri": "https://localhost:8080/"
        },
        "id": "fq2MyPwuBhhP",
        "outputId": "1f9e48b6-5173-40ae-95c5-3f9bd57a8f8b"
      },
      "source": [
        "x_svm = x\n",
        "y_svm = y\n",
        "\n",
        "x_train_svm, x_test_svm, y_train_svm, y_test_svm = train_test_split(x_svm, y_svm, test_size=0.3)\n",
        "\n",
        "standarization = StandardScaler()\n",
        "standarization.fit(x_train_svm)\n",
        "\n",
        "z_train_svm = standarization.transform(x_train_svm)\n",
        "z_test_svm = standarization.transform(x_test_svm)\n",
        "\n",
        "\n",
        "model_svm = svm.SVR()\n",
        "model_svm.fit(z_train_svm, y_train_svm)"
      ],
      "execution_count": null,
      "outputs": [
        {
          "output_type": "execute_result",
          "data": {
            "text/plain": [
              "SVR(C=1.0, cache_size=200, coef0=0.0, degree=3, epsilon=0.1, gamma='scale',\n",
              "    kernel='rbf', max_iter=-1, shrinking=True, tol=0.001, verbose=False)"
            ]
          },
          "metadata": {
            "tags": []
          },
          "execution_count": 55
        }
      ]
    },
    {
      "cell_type": "markdown",
      "metadata": {
        "id": "zLYEiDdSCd3X"
      },
      "source": [
        "*Testing*"
      ]
    },
    {
      "cell_type": "code",
      "metadata": {
        "colab": {
          "base_uri": "https://localhost:8080/"
        },
        "id": "2Vgxs9Bk-uSm",
        "outputId": "7b30885a-8c0a-4d1f-d000-7b2daf2ca66f"
      },
      "source": [
        "y_pred_svm = model_svm.predict(z_test_svm) \n",
        "score = model_svm.score(z_test_svm, y_pred_svm)\n",
        "\n",
        "print(\"R^2 :\",score)"
      ],
      "execution_count": null,
      "outputs": [
        {
          "output_type": "stream",
          "text": [
            "R^2 : 1.0\n"
          ],
          "name": "stdout"
        }
      ]
    },
    {
      "cell_type": "code",
      "metadata": {
        "colab": {
          "base_uri": "https://localhost:8080/",
          "height": 279
        },
        "id": "MNyWO-p5CdMs",
        "outputId": "1946064a-92a1-4ab7-b301-297370cbbef8"
      },
      "source": [
        "plt.scatter(y_test_svm,y_pred_svm,color=\"black\")\n",
        "plt.plot([0,np.max(y_test_svm)],[0,np.max(y_test_svm)],color=\"blue\")\n",
        "plt.xlabel(\"Original\")\n",
        "plt.ylabel(\"Estimates\")\n",
        "plt.show() "
      ],
      "execution_count": null,
      "outputs": [
        {
          "output_type": "display_data",
          "data": {
            "image/png": "[encoded data removed]",
            "text/plain": [
              "<Figure size 432x288 with 1 Axes>"
            ]
          },
          "metadata": {
            "tags": [],
            "needs_background": "light"
          }
        }
      ]
    },
    {
      "cell_type": "markdown",
      "metadata": {
        "id": "Fnp-OW8SI2aD"
      },
      "source": [
        "*Evaluación de modelo*"
      ]
    },
    {
      "cell_type": "code",
      "metadata": {
        "colab": {
          "base_uri": "https://localhost:8080/"
        },
        "id": "r6exdFgntNSY",
        "outputId": "cea6aaa9-c462-433d-97d5-838a43d25383"
      },
      "source": [
        "# Evaluación de residuos (evaluación de entrenamiento)\n",
        "accuracy_train_svm = model_svm.score(z_train_svm,y_train_svm)\n",
        "print('Exactitud en entrenamiento:', accuracy_train_svm)\n",
        "\n",
        "# Evaluación de prueba\n",
        "accuracy_test_svm = model_svm.score(z_test_svm,y_test_svm)\n",
        "print('Exactitud en prueba:', accuracy_test_svm)"
      ],
      "execution_count": null,
      "outputs": [
        {
          "output_type": "stream",
          "text": [
            "Exactitud en entrenamiento: 0.9778351698185215\n",
            "Exactitud en prueba: 0.9784912739788459\n"
          ],
          "name": "stdout"
        }
      ]
    },
    {
      "cell_type": "markdown",
      "metadata": {
        "id": "yD4zMzx2JbqN"
      },
      "source": [
        "*SVM Eye Makeup*"
      ]
    },
    {
      "cell_type": "markdown",
      "metadata": {
        "id": "lEMRp8JTKBNH"
      },
      "source": [
        "*Training*"
      ]
    },
    {
      "cell_type": "code",
      "metadata": {
        "colab": {
          "base_uri": "https://localhost:8080/"
        },
        "id": "5edeGM5gJUvW",
        "outputId": "78f262b2-dfaf-45d7-948f-2e9bc895254a"
      },
      "source": [
        "x_svm_eye = x_eye\n",
        "y_svm_eye = y_eye\n",
        "\n",
        "x_train_svm_eye, x_test_svm_eye, y_train_svm_eye, y_test_svm_eye = train_test_split(x_svm_eye, y_svm_eye, test_size=0.3)\n",
        "\n",
        "standarization = StandardScaler()\n",
        "standarization.fit(x_train_svm_eye)\n",
        "\n",
        "z_train_svm_eye = standarization.transform(x_train_svm_eye)\n",
        "z_test_svm_eye = standarization.transform(x_test_svm_eye)\n",
        "\n",
        "\n",
        "model_svm_eye = svm.SVR()\n",
        "model_svm_eye.fit(z_train_svm_eye, y_train_svm_eye)"
      ],
      "execution_count": null,
      "outputs": [
        {
          "output_type": "execute_result",
          "data": {
            "text/plain": [
              "SVR(C=1.0, cache_size=200, coef0=0.0, degree=3, epsilon=0.1, gamma='scale',\n",
              "    kernel='rbf', max_iter=-1, shrinking=True, tol=0.001, verbose=False)"
            ]
          },
          "metadata": {
            "tags": []
          },
          "execution_count": 58
        }
      ]
    },
    {
      "cell_type": "markdown",
      "metadata": {
        "id": "pyMNJQXJKjWu"
      },
      "source": [
        "*Testing*"
      ]
    },
    {
      "cell_type": "code",
      "metadata": {
        "colab": {
          "base_uri": "https://localhost:8080/"
        },
        "id": "tKD-s6eWAVvT",
        "outputId": "32a8d003-c56e-4431-d850-bad84218108d"
      },
      "source": [
        "y_pred_svm_eye = model_svm_eye.predict(z_test_svm_eye) \n",
        "score = model_svm_eye.score(z_test_svm_eye, y_pred_svm_eye)\n",
        "\n",
        "print(\"R^2 :\",score)"
      ],
      "execution_count": null,
      "outputs": [
        {
          "output_type": "stream",
          "text": [
            "R^2 : 1.0\n"
          ],
          "name": "stdout"
        }
      ]
    },
    {
      "cell_type": "code",
      "metadata": {
        "colab": {
          "base_uri": "https://localhost:8080/",
          "height": 279
        },
        "id": "5R8YaBBaKiNK",
        "outputId": "4291ade9-e918-4d74-fd37-526c65430962"
      },
      "source": [
        "plt.scatter(y_test_svm_eye,y_pred_svm_eye,color=\"black\")\n",
        "plt.plot([0,np.max(y_test_svm_eye)],[0,np.max(y_test_svm_eye)],color=\"blue\")\n",
        "plt.xlabel(\"Original\")\n",
        "plt.ylabel(\"Estimates\")\n",
        "plt.show() "
      ],
      "execution_count": null,
      "outputs": [
        {
          "output_type": "display_data",
          "data": {
            "image/png": "[encoded data removed]",
            "text/plain": [
              "<Figure size 432x288 with 1 Axes>"
            ]
          },
          "metadata": {
            "tags": [],
            "needs_background": "light"
          }
        }
      ]
    },
    {
      "cell_type": "markdown",
      "metadata": {
        "id": "_062dYR9Kzvb"
      },
      "source": [
        "*Evaluación de modelos*"
      ]
    },
    {
      "cell_type": "code",
      "metadata": {
        "colab": {
          "base_uri": "https://localhost:8080/"
        },
        "id": "SpZDpBpcKwxj",
        "outputId": "2993f4c3-d765-4566-c5e4-6e38d3cc63a4"
      },
      "source": [
        "# Evaluación de residuos (evaluación de entrenamiento)\n",
        "accuracy_train_svm_eye = model_svm_eye.score(z_train_svm_eye,y_train_svm_eye)\n",
        "print('Exactitud en entrenamiento:', accuracy_train_svm_eye)\n",
        "\n",
        "# Evaluación de prueba\n",
        "accuracy_test_svm_eye = model_svm_eye.score(z_test_svm_eye,y_test_svm_eye)\n",
        "print('Exactitud en prueba:', accuracy_test_svm_eye)"
      ],
      "execution_count": null,
      "outputs": [
        {
          "output_type": "stream",
          "text": [
            "Exactitud en entrenamiento: 0.6292161004486234\n",
            "Exactitud en prueba: 0.5467061956513177\n"
          ],
          "name": "stdout"
        }
      ]
    },
    {
      "cell_type": "markdown",
      "metadata": {
        "id": "xn7O4STRLFou"
      },
      "source": [
        "*SVM Face Makeup*"
      ]
    },
    {
      "cell_type": "markdown",
      "metadata": {
        "id": "Ash0Z1IGLXVv"
      },
      "source": [
        "*Training*"
      ]
    },
    {
      "cell_type": "code",
      "metadata": {
        "colab": {
          "base_uri": "https://localhost:8080/"
        },
        "id": "lFlTg4zAK94g",
        "outputId": "ac9b5e42-0dd1-4f5a-af6e-32c6aedbd5c5"
      },
      "source": [
        "x_svm_face = x_face\n",
        "y_svm_face = y_face\n",
        "\n",
        "x_train_svm_face, x_test_svm_face, y_train_svm_face, y_test_svm_face = train_test_split(x_svm_face, y_svm_face, test_size=0.3)\n",
        "\n",
        "standarization = StandardScaler()\n",
        "standarization.fit(x_train_svm_face)\n",
        "\n",
        "z_train_svm_face = standarization.transform(x_train_svm_face)\n",
        "z_test_svm_face = standarization.transform(x_test_svm_face)\n",
        "\n",
        "\n",
        "model_svm_face = svm.SVR()\n",
        "model_svm_face.fit(z_train_svm_face, y_train_svm_face) "
      ],
      "execution_count": null,
      "outputs": [
        {
          "output_type": "execute_result",
          "data": {
            "text/plain": [
              "SVR(C=1.0, cache_size=200, coef0=0.0, degree=3, epsilon=0.1, gamma='scale',\n",
              "    kernel='rbf', max_iter=-1, shrinking=True, tol=0.001, verbose=False)"
            ]
          },
          "metadata": {
            "tags": []
          },
          "execution_count": 61
        }
      ]
    },
    {
      "cell_type": "markdown",
      "metadata": {
        "id": "qj1EnhJlLr36"
      },
      "source": [
        "*Testing*"
      ]
    },
    {
      "cell_type": "code",
      "metadata": {
        "colab": {
          "base_uri": "https://localhost:8080/"
        },
        "id": "Avym16etAdiD",
        "outputId": "1e9abe2f-6997-45a8-dc0a-921163920669"
      },
      "source": [
        "y_pred_svm_face = model_svm_face.predict(z_test_svm_face) \n",
        "score = model_svm_face.score(z_test_svm_face, y_pred_svm_face)\n",
        "\n",
        "print(\"R^2 :\",score)"
      ],
      "execution_count": null,
      "outputs": [
        {
          "output_type": "stream",
          "text": [
            "R^2 : 1.0\n"
          ],
          "name": "stdout"
        }
      ]
    },
    {
      "cell_type": "code",
      "metadata": {
        "colab": {
          "base_uri": "https://localhost:8080/",
          "height": 279
        },
        "id": "uJtUJ18nLp76",
        "outputId": "3d179a51-f42c-4c38-a043-f82d0d6d809a"
      },
      "source": [
        "plt.scatter(y_test_svm_face,y_pred_svm_face,color=\"black\")\n",
        "plt.plot([0,np.max(y_test_svm_face)],[0,np.max(y_test_svm_face)],color=\"blue\")\n",
        "plt.xlabel(\"Original\")\n",
        "plt.ylabel(\"Estimates\")\n",
        "plt.show() "
      ],
      "execution_count": null,
      "outputs": [
        {
          "output_type": "display_data",
          "data": {
            "image/png": "[encoded data removed]",
            "text/plain": [
              "<Figure size 432x288 with 1 Axes>"
            ]
          },
          "metadata": {
            "tags": [],
            "needs_background": "light"
          }
        }
      ]
    },
    {
      "cell_type": "markdown",
      "metadata": {
        "id": "F5qn78gfMRW6"
      },
      "source": [
        "*Evaluación de modelos*"
      ]
    },
    {
      "cell_type": "code",
      "metadata": {
        "colab": {
          "base_uri": "https://localhost:8080/"
        },
        "id": "V3d1pXpUMI_J",
        "outputId": "5d266c83-e87c-4f72-ab1b-81ab32473126"
      },
      "source": [
        "# Evaluación de residuos (evaluación de entrenamiento)\n",
        "accuracy_train_svm_face = model_svm_face.score(z_train_svm_face,y_train_svm_face)\n",
        "print('Exactitud en entrenamiento:', accuracy_train_svm_face)\n",
        "\n",
        "# Evaluación de prueba\n",
        "accuracy_test_svm_face = model_svm_face.score(z_test_svm_face,y_test_svm_face)\n",
        "print('Exactitud en prueba:', accuracy_test_svm_face) "
      ],
      "execution_count": null,
      "outputs": [
        {
          "output_type": "stream",
          "text": [
            "Exactitud en entrenamiento: 0.9462484189604188\n",
            "Exactitud en prueba: 0.9263906374892134\n"
          ],
          "name": "stdout"
        }
      ]
    },
    {
      "cell_type": "markdown",
      "metadata": {
        "id": "tQKd7cf_Mo_K"
      },
      "source": [
        "*SVM Lip Makeup*"
      ]
    },
    {
      "cell_type": "markdown",
      "metadata": {
        "id": "60EvWDZSMrgc"
      },
      "source": [
        "*Training*"
      ]
    },
    {
      "cell_type": "code",
      "metadata": {
        "colab": {
          "base_uri": "https://localhost:8080/"
        },
        "id": "_yGZdqh9MhlD",
        "outputId": "a5e00dc0-7109-4fdc-b131-b8dbb1dffc0e"
      },
      "source": [
        "x_svm_lip = x_lip\n",
        "y_svm_lip = y_lip\n",
        "\n",
        "x_train_svm_lip, x_test_svm_lip, y_train_svm_lip, y_test_svm_lip = train_test_split(x_svm_lip, y_svm_lip, test_size=0.3)\n",
        "\n",
        "standarization = StandardScaler()\n",
        "standarization.fit(x_train_svm_lip)\n",
        "\n",
        "z_train_svm_lip = standarization.transform(x_train_svm_lip)\n",
        "z_test_svm_lip = standarization.transform(x_test_svm_lip)\n",
        "\n",
        "\n",
        "model_svm_lip = svm.SVR()\n",
        "model_svm_lip.fit(z_train_svm_lip, y_train_svm_lip) "
      ],
      "execution_count": null,
      "outputs": [
        {
          "output_type": "execute_result",
          "data": {
            "text/plain": [
              "SVR(C=1.0, cache_size=200, coef0=0.0, degree=3, epsilon=0.1, gamma='scale',\n",
              "    kernel='rbf', max_iter=-1, shrinking=True, tol=0.001, verbose=False)"
            ]
          },
          "metadata": {
            "tags": []
          },
          "execution_count": 64
        }
      ]
    },
    {
      "cell_type": "markdown",
      "metadata": {
        "id": "69Ov9xA5NWao"
      },
      "source": [
        "*Testing*"
      ]
    },
    {
      "cell_type": "code",
      "metadata": {
        "colab": {
          "base_uri": "https://localhost:8080/"
        },
        "id": "-HIwOv2FAkAW",
        "outputId": "b4b7f0c7-8729-4c0b-8139-ab08fac72d56"
      },
      "source": [
        "y_pred_svm_lip = model_svm_lip.predict(z_test_svm_lip) \n",
        "score = model_svm_lip.score(z_test_svm_lip, y_pred_svm_lip)\n",
        "\n",
        "print(\"R^2 :\",score)"
      ],
      "execution_count": null,
      "outputs": [
        {
          "output_type": "stream",
          "text": [
            "R^2 : 1.0\n"
          ],
          "name": "stdout"
        }
      ]
    },
    {
      "cell_type": "code",
      "metadata": {
        "colab": {
          "base_uri": "https://localhost:8080/",
          "height": 279
        },
        "id": "I-ctm9JMNJLl",
        "outputId": "74ab2807-2d80-4740-db25-f18fe8b850b2"
      },
      "source": [
        "plt.scatter(y_test_svm_lip,y_pred_svm_lip,color=\"black\")\n",
        "plt.plot([0,np.max(y_test_svm_lip)],[0,np.max(y_test_svm_lip)],color=\"blue\")\n",
        "plt.xlabel(\"Original\")\n",
        "plt.ylabel(\"Estimates\")\n",
        "plt.show() "
      ],
      "execution_count": null,
      "outputs": [
        {
          "output_type": "display_data",
          "data": {
            "image/png": "[encoded data removed]",
            "text/plain": [
              "<Figure size 432x288 with 1 Axes>"
            ]
          },
          "metadata": {
            "tags": [],
            "needs_background": "light"
          }
        }
      ]
    },
    {
      "cell_type": "markdown",
      "metadata": {
        "id": "i1k6HkydNlPm"
      },
      "source": [
        "*Evaluación de modelos*"
      ]
    },
    {
      "cell_type": "code",
      "metadata": {
        "colab": {
          "base_uri": "https://localhost:8080/"
        },
        "id": "Z-5MHQbyNhsH",
        "outputId": "e6fbbc38-5e0e-4b78-e6d0-a58a01692e92"
      },
      "source": [
        "# Evaluación de residuos (evaluación de entrenamiento)\n",
        "accuracy_train_svm_lip = model_svm_lip.score(z_train_svm_lip,y_train_svm_lip)\n",
        "print('Exactitud en entrenamiento:', accuracy_train_svm_lip)\n",
        "\n",
        "# Evaluación de prueba\n",
        "accuracy_test_svm_lip = model_svm_lip.score(z_test_svm_lip,y_test_svm_lip)\n",
        "print('Exactitud en prueba:', accuracy_test_svm_lip) "
      ],
      "execution_count": null,
      "outputs": [
        {
          "output_type": "stream",
          "text": [
            "Exactitud en entrenamiento: 0.9605035677284571\n",
            "Exactitud en prueba: 0.9288817314970919\n"
          ],
          "name": "stdout"
        }
      ]
    },
    {
      "cell_type": "markdown",
      "metadata": {
        "id": "bl0Szu_VNw6B"
      },
      "source": [
        "*SVM Nail Makeup*"
      ]
    },
    {
      "cell_type": "markdown",
      "metadata": {
        "id": "YLdOIxHlNzjn"
      },
      "source": [
        "*Training*"
      ]
    },
    {
      "cell_type": "code",
      "metadata": {
        "colab": {
          "base_uri": "https://localhost:8080/"
        },
        "id": "DAKMOH6WNvxC",
        "outputId": "dfe02582-6287-42e5-995b-423723d8df77"
      },
      "source": [
        "x_svm_nail = x_nail\n",
        "y_svm_nail = y_nail\n",
        "\n",
        "x_train_svm_nail, x_test_svm_nail, y_train_svm_nail, y_test_svm_nail = train_test_split(x_svm_nail, y_svm_nail, test_size=0.3)\n",
        "\n",
        "standarization = StandardScaler()\n",
        "standarization.fit(x_train_svm_nail)\n",
        "\n",
        "z_train_svm_nail = standarization.transform(x_train_svm_nail)\n",
        "z_test_svm_nail = standarization.transform(x_test_svm_nail)\n",
        "\n",
        "\n",
        "model_svm_nail = svm.SVR()\n",
        "model_svm_nail.fit(z_train_svm_nail, y_train_svm_nail) "
      ],
      "execution_count": null,
      "outputs": [
        {
          "output_type": "execute_result",
          "data": {
            "text/plain": [
              "SVR(C=1.0, cache_size=200, coef0=0.0, degree=3, epsilon=0.1, gamma='scale',\n",
              "    kernel='rbf', max_iter=-1, shrinking=True, tol=0.001, verbose=False)"
            ]
          },
          "metadata": {
            "tags": []
          },
          "execution_count": 68
        }
      ]
    },
    {
      "cell_type": "markdown",
      "metadata": {
        "id": "y2OeVU2xOSVE"
      },
      "source": [
        "*Testing*"
      ]
    },
    {
      "cell_type": "code",
      "metadata": {
        "id": "MtorP34uAreB",
        "colab": {
          "base_uri": "https://localhost:8080/"
        },
        "outputId": "2ab1f516-fced-4c1c-cd41-08616f6dfe69"
      },
      "source": [
        "y_pred_svm_nail = model_svm_nail.predict(z_test_svm_nail) \n",
        "score = model_svm_nail.score(z_test_svm_nail, y_pred_svm_nail)\n",
        "\n",
        "print(\"R^2 :\",score)"
      ],
      "execution_count": null,
      "outputs": [
        {
          "output_type": "stream",
          "text": [
            "R^2 : 1.0\n"
          ],
          "name": "stdout"
        }
      ]
    },
    {
      "cell_type": "code",
      "metadata": {
        "colab": {
          "base_uri": "https://localhost:8080/",
          "height": 279
        },
        "id": "qNTtpb2oOBt3",
        "outputId": "9222edc3-8656-42d0-d429-a3e3e7bf3324"
      },
      "source": [
        "plt.scatter(y_test_svm_nail,y_pred_svm_nail,color=\"black\")\n",
        "plt.plot([0,np.max(y_test_svm_nail)],[0,np.max(y_test_svm_nail)],color=\"blue\")\n",
        "plt.xlabel(\"Original\")\n",
        "plt.ylabel(\"Estimates\")\n",
        "plt.show() "
      ],
      "execution_count": null,
      "outputs": [
        {
          "output_type": "display_data",
          "data": {
            "image/png": "[encoded data removed]",
            "text/plain": [
              "<Figure size 432x288 with 1 Axes>"
            ]
          },
          "metadata": {
            "tags": [],
            "needs_background": "light"
          }
        }
      ]
    },
    {
      "cell_type": "markdown",
      "metadata": {
        "id": "uRhlbavbOgvP"
      },
      "source": [
        "*Evaluación de modelos*"
      ]
    },
    {
      "cell_type": "code",
      "metadata": {
        "colab": {
          "base_uri": "https://localhost:8080/"
        },
        "id": "fH-6pOjgOd62",
        "outputId": "ee961bfb-26b2-4c45-b4af-082499c441d5"
      },
      "source": [
        "# Evaluación de residuos (evaluación de entrenamiento)\n",
        "accuracy_train_svm_nail = model_svm_nail.score(z_train_svm_nail,y_train_svm_nail)\n",
        "print('Exactitud en entrenamiento:', accuracy_train_svm_nail)\n",
        "\n",
        "# Evaluación de prueba\n",
        "accuracy_test_svm_nail = model_svm_nail.score(z_test_svm_nail,y_test_svm_nail)\n",
        "print('Exactitud en prueba:', accuracy_test_svm_nail) "
      ],
      "execution_count": null,
      "outputs": [
        {
          "output_type": "stream",
          "text": [
            "Exactitud en entrenamiento: 0.9870364917445972\n",
            "Exactitud en prueba: 0.9665422204593637\n"
          ],
          "name": "stdout"
        }
      ]
    },
    {
      "cell_type": "markdown",
      "metadata": {
        "id": "aaOsABOfyEEd"
      },
      "source": [
        "# **Redes Neuronales**"
      ]
    },
    {
      "cell_type": "markdown",
      "metadata": {
        "id": "zlWsyzVkyO-A"
      },
      "source": [
        "*General*"
      ]
    },
    {
      "cell_type": "markdown",
      "metadata": {
        "id": "u3DhfX5dyqwH"
      },
      "source": [
        "*Training*"
      ]
    },
    {
      "cell_type": "code",
      "metadata": {
        "id": "S8uA_MUFyw_X",
        "colab": {
          "base_uri": "https://localhost:8080/"
        },
        "outputId": "c7e134b7-e95d-4776-be6e-3cf2dabb054e"
      },
      "source": [
        "from sklearn.neural_network import MLPRegressor\n",
        "\n",
        "x_nn = x\n",
        "y_nn = y\n",
        "\n",
        "x_train_nn, x_test_nn, y_train_nn, y_test_nn = train_test_split(x_nn, y_nn, test_size=0.3)\n",
        "\n",
        "standarization = StandardScaler()\n",
        "standarization.fit(x_train_nn)\n",
        "\n",
        "z_train_nn = standarization.transform(x_train_nn)\n",
        "z_test_nn = standarization.transform(x_test_nn)\n",
        "\n",
        "\n",
        "model_nn = MLPRegressor( hidden_layer_sizes=(20,20,20,20,20) )\n",
        "model_nn.fit(z_train_nn,y_train_nn)"
      ],
      "execution_count": null,
      "outputs": [
        {
          "output_type": "stream",
          "text": [
            "/usr/local/lib/python3.7/dist-packages/sklearn/neural_network/_multilayer_perceptron.py:571: ConvergenceWarning: Stochastic Optimizer: Maximum iterations (200) reached and the optimization hasn't converged yet.\n",
            "  % self.max_iter, ConvergenceWarning)\n"
          ],
          "name": "stderr"
        },
        {
          "output_type": "execute_result",
          "data": {
            "text/plain": [
              "MLPRegressor(activation='relu', alpha=0.0001, batch_size='auto', beta_1=0.9,\n",
              "             beta_2=0.999, early_stopping=False, epsilon=1e-08,\n",
              "             hidden_layer_sizes=(20, 20, 20, 20, 20), learning_rate='constant',\n",
              "             learning_rate_init=0.001, max_fun=15000, max_iter=200,\n",
              "             momentum=0.9, n_iter_no_change=10, nesterovs_momentum=True,\n",
              "             power_t=0.5, random_state=None, shuffle=True, solver='adam',\n",
              "             tol=0.0001, validation_fraction=0.1, verbose=False,\n",
              "             warm_start=False)"
            ]
          },
          "metadata": {
            "tags": []
          },
          "execution_count": 73
        }
      ]
    },
    {
      "cell_type": "markdown",
      "metadata": {
        "id": "nsfAvikBzbUN"
      },
      "source": [
        "*Testing*"
      ]
    },
    {
      "cell_type": "code",
      "metadata": {
        "id": "gtSycvbczkeZ",
        "colab": {
          "base_uri": "https://localhost:8080/"
        },
        "outputId": "64185336-5b72-4316-d18b-8842c9c411d5"
      },
      "source": [
        "y_pred_nn = model_nn.predict(z_test_nn) \n",
        "score = model_nn.score(z_test_nn, y_pred_nn)\n",
        "\n",
        "print(\"R^2 :\",score)"
      ],
      "execution_count": null,
      "outputs": [
        {
          "output_type": "stream",
          "text": [
            "R^2 : 1.0\n"
          ],
          "name": "stdout"
        }
      ]
    },
    {
      "cell_type": "code",
      "metadata": {
        "id": "wOd8NtOyzzdc",
        "colab": {
          "base_uri": "https://localhost:8080/",
          "height": 279
        },
        "outputId": "b07dad9d-eb94-449f-bafa-3760bcf4d002"
      },
      "source": [
        "plt.scatter(y_test_nn,y_pred_nn,color=\"black\")\n",
        "plt.plot([0,np.max(y_test_nn)],[0,np.max(y_test_nn)],color=\"blue\")\n",
        "plt.xlabel(\"Original\")\n",
        "plt.ylabel(\"Estimates\")\n",
        "plt.show() "
      ],
      "execution_count": null,
      "outputs": [
        {
          "output_type": "display_data",
          "data": {
            "image/png": "[encoded data removed]",
            "text/plain": [
              "<Figure size 432x288 with 1 Axes>"
            ]
          },
          "metadata": {
            "tags": [],
            "needs_background": "light"
          }
        }
      ]
    },
    {
      "cell_type": "code",
      "metadata": {
        "colab": {
          "base_uri": "https://localhost:8080/"
        },
        "id": "1vj98peu0M5i",
        "outputId": "a760bb4f-feb0-4e4f-cc32-fc8c1e6b945f"
      },
      "source": [
        "# Evaluación de residuos (evaluación de entrenamiento)\n",
        "accuracy_train_nn = model_nn.score(z_train_nn,y_train_nn)\n",
        "print('Exactitud en entrenamiento:', accuracy_train_nn)\n",
        "\n",
        "# Evaluación de prueba\n",
        "accuracy_test_nn = model_nn.score(z_test_nn,y_test_nn)\n",
        "print('Exactitud en prueba:', accuracy_test_nn)"
      ],
      "execution_count": null,
      "outputs": [
        {
          "output_type": "stream",
          "text": [
            "Exactitud en entrenamiento: 0.979181348798914\n",
            "Exactitud en prueba: 0.8426930998142522\n"
          ],
          "name": "stdout"
        }
      ]
    },
    {
      "cell_type": "markdown",
      "metadata": {
        "id": "-1Obrpig0M5s"
      },
      "source": [
        "*Eye Makeup*"
      ]
    },
    {
      "cell_type": "markdown",
      "metadata": {
        "id": "v-evspjt0M5s"
      },
      "source": [
        "*Training*"
      ]
    },
    {
      "cell_type": "code",
      "metadata": {
        "colab": {
          "base_uri": "https://localhost:8080/"
        },
        "id": "O7x0zG5_0M5t",
        "outputId": "36c6f1f4-996e-4714-9ac6-7d114b14e36b"
      },
      "source": [
        "x_nn_eye = x_eye\n",
        "y_nn_eye = y_eye\n",
        "\n",
        "x_train_nn_eye, x_test_nn_eye, y_train_nn_eye, y_test_nn_eye = train_test_split(x_nn_eye, y_nn_eye, test_size=0.3)\n",
        "\n",
        "standarization = StandardScaler()\n",
        "standarization.fit(x_train_nn_eye)\n",
        "\n",
        "z_train_nn_eye = standarization.transform(x_train_nn_eye)\n",
        "z_test_nn_eye = standarization.transform(x_test_nn_eye)\n",
        "\n",
        "\n",
        "model_nn_eye = MLPRegressor( hidden_layer_sizes=(20,20,20,20,20) )\n",
        "model_nn_eye.fit(z_train_nn_eye, y_train_nn_eye)"
      ],
      "execution_count": null,
      "outputs": [
        {
          "output_type": "execute_result",
          "data": {
            "text/plain": [
              "MLPRegressor(activation='relu', alpha=0.0001, batch_size='auto', beta_1=0.9,\n",
              "             beta_2=0.999, early_stopping=False, epsilon=1e-08,\n",
              "             hidden_layer_sizes=(20, 20, 20, 20, 20), learning_rate='constant',\n",
              "             learning_rate_init=0.001, max_fun=15000, max_iter=200,\n",
              "             momentum=0.9, n_iter_no_change=10, nesterovs_momentum=True,\n",
              "             power_t=0.5, random_state=None, shuffle=True, solver='adam',\n",
              "             tol=0.0001, validation_fraction=0.1, verbose=False,\n",
              "             warm_start=False)"
            ]
          },
          "metadata": {
            "tags": []
          },
          "execution_count": 78
        }
      ]
    },
    {
      "cell_type": "markdown",
      "metadata": {
        "id": "Bk4EZcGD0M5t"
      },
      "source": [
        "*Testing*"
      ]
    },
    {
      "cell_type": "code",
      "metadata": {
        "colab": {
          "base_uri": "https://localhost:8080/"
        },
        "id": "nTLwDG_v0M5t",
        "outputId": "a9a56103-5ca7-4eb6-d542-1aea52208b99"
      },
      "source": [
        "y_pred_nn_eye = model_nn_eye.predict(z_test_nn_eye) \n",
        "score = model_nn_eye.score(z_test_nn_eye, y_pred_nn_eye)\n",
        "\n",
        "print(\"R^2 :\",score)"
      ],
      "execution_count": null,
      "outputs": [
        {
          "output_type": "stream",
          "text": [
            "R^2 : 1.0\n"
          ],
          "name": "stdout"
        }
      ]
    },
    {
      "cell_type": "code",
      "metadata": {
        "colab": {
          "base_uri": "https://localhost:8080/",
          "height": 279
        },
        "id": "KV_CtBcT0M5u",
        "outputId": "525018d8-c6fb-490f-ebe3-76ac18d52e8c"
      },
      "source": [
        "plt.scatter(y_test_nn_eye,y_pred_nn_eye,color=\"black\")\n",
        "plt.plot([0,np.max(y_test_nn_eye)],[0,np.max(y_test_nn_eye)],color=\"blue\")\n",
        "plt.xlabel(\"Original\")\n",
        "plt.ylabel(\"Estimates\")\n",
        "plt.show() "
      ],
      "execution_count": null,
      "outputs": [
        {
          "output_type": "display_data",
          "data": {
            "image/png": "[encoded data removed]",
            "text/plain": [
              "<Figure size 432x288 with 1 Axes>"
            ]
          },
          "metadata": {
            "tags": [],
            "needs_background": "light"
          }
        }
      ]
    },
    {
      "cell_type": "markdown",
      "metadata": {
        "id": "Ukc9A2680M5u"
      },
      "source": [
        "*Evaluación de modelos*"
      ]
    },
    {
      "cell_type": "code",
      "metadata": {
        "colab": {
          "base_uri": "https://localhost:8080/"
        },
        "id": "eNxxW3zj0M5u",
        "outputId": "8f511e68-f5bd-4629-da4f-61e9740fd142"
      },
      "source": [
        "# Evaluación de residuos (evaluación de entrenamiento)\n",
        "accuracy_train_nn_eye = model_nn_eye.score(z_train_nn_eye,y_train_nn_eye)\n",
        "print('Exactitud en entrenamiento:', accuracy_train_nn_eye)\n",
        "\n",
        "# Evaluación de prueba\n",
        "accuracy_test_nn_eye = model_nn_eye.score(z_test_nn_eye,y_test_nn_eye)\n",
        "print('Exactitud en prueba:', accuracy_test_svm_eye)"
      ],
      "execution_count": null,
      "outputs": [
        {
          "output_type": "stream",
          "text": [
            "Exactitud en entrenamiento: 0.8209872967250743\n",
            "Exactitud en prueba: 0.5467061956513177\n"
          ],
          "name": "stdout"
        }
      ]
    },
    {
      "cell_type": "markdown",
      "metadata": {
        "id": "KX0KE8MC0M5v"
      },
      "source": [
        "*Face Makeup*"
      ]
    },
    {
      "cell_type": "markdown",
      "metadata": {
        "id": "sJfWovoD0M5v"
      },
      "source": [
        "*Training*"
      ]
    },
    {
      "cell_type": "code",
      "metadata": {
        "colab": {
          "base_uri": "https://localhost:8080/"
        },
        "id": "mPF3qVk40M5v",
        "outputId": "c04264b4-07f5-465d-bf27-9bab78336235"
      },
      "source": [
        "x_nn_face = x_face\n",
        "y_nn_face = y_face\n",
        "\n",
        "x_train_nn_face, x_test_nn_face, y_train_nn_face, y_test_nn_face = train_test_split(x_nn_face, y_nn_face, test_size=0.3)\n",
        "\n",
        "standarization = StandardScaler()\n",
        "standarization.fit(x_train_nn_face)\n",
        "\n",
        "z_train_nn_face = standarization.transform(x_train_nn_face)\n",
        "z_test_nn_face = standarization.transform(x_test_nn_face)\n",
        "\n",
        "\n",
        "model_nn_face = MLPRegressor( hidden_layer_sizes=(20,20,20,20,20) )\n",
        "model_nn_face.fit(z_train_nn_face, y_train_nn_face) "
      ],
      "execution_count": null,
      "outputs": [
        {
          "output_type": "stream",
          "text": [
            "/usr/local/lib/python3.7/dist-packages/sklearn/neural_network/_multilayer_perceptron.py:571: ConvergenceWarning: Stochastic Optimizer: Maximum iterations (200) reached and the optimization hasn't converged yet.\n",
            "  % self.max_iter, ConvergenceWarning)\n"
          ],
          "name": "stderr"
        },
        {
          "output_type": "execute_result",
          "data": {
            "text/plain": [
              "MLPRegressor(activation='relu', alpha=0.0001, batch_size='auto', beta_1=0.9,\n",
              "             beta_2=0.999, early_stopping=False, epsilon=1e-08,\n",
              "             hidden_layer_sizes=(20, 20, 20, 20, 20), learning_rate='constant',\n",
              "             learning_rate_init=0.001, max_fun=15000, max_iter=200,\n",
              "             momentum=0.9, n_iter_no_change=10, nesterovs_momentum=True,\n",
              "             power_t=0.5, random_state=None, shuffle=True, solver='adam',\n",
              "             tol=0.0001, validation_fraction=0.1, verbose=False,\n",
              "             warm_start=False)"
            ]
          },
          "metadata": {
            "tags": []
          },
          "execution_count": 82
        }
      ]
    },
    {
      "cell_type": "markdown",
      "metadata": {
        "id": "D2lnMi-K0M5v"
      },
      "source": [
        "*Testing*"
      ]
    },
    {
      "cell_type": "code",
      "metadata": {
        "colab": {
          "base_uri": "https://localhost:8080/"
        },
        "id": "RoG2hsP10M5w",
        "outputId": "548e27ba-3433-44c1-c84b-74f2eb56db60"
      },
      "source": [
        "y_pred_nn_face = model_nn_face.predict(z_test_nn_face) \n",
        "score = model_nn_face.score(z_test_nn_face, y_pred_nn_face)\n",
        "\n",
        "print(\"R^2 :\",score)"
      ],
      "execution_count": null,
      "outputs": [
        {
          "output_type": "stream",
          "text": [
            "R^2 : 1.0\n"
          ],
          "name": "stdout"
        }
      ]
    },
    {
      "cell_type": "code",
      "metadata": {
        "colab": {
          "base_uri": "https://localhost:8080/",
          "height": 279
        },
        "id": "JYtaGMaZ0M5w",
        "outputId": "81b55b66-a490-46e3-fbef-460051d1e560"
      },
      "source": [
        "plt.scatter(y_test_nn_face,y_pred_nn_face,color=\"black\")\n",
        "plt.plot([0,np.max(y_test_nn_face)],[0,np.max(y_test_nn_face)],color=\"blue\")\n",
        "plt.xlabel(\"Original\")\n",
        "plt.ylabel(\"Estimates\")\n",
        "plt.show() "
      ],
      "execution_count": null,
      "outputs": [
        {
          "output_type": "display_data",
          "data": {
            "image/png": "[encoded data removed]",
            "text/plain": [
              "<Figure size 432x288 with 1 Axes>"
            ]
          },
          "metadata": {
            "tags": [],
            "needs_background": "light"
          }
        }
      ]
    },
    {
      "cell_type": "markdown",
      "metadata": {
        "id": "IJS1M1Yo0M5w"
      },
      "source": [
        "*Evaluación de modelos*"
      ]
    },
    {
      "cell_type": "code",
      "metadata": {
        "colab": {
          "base_uri": "https://localhost:8080/"
        },
        "id": "eauFut-40M5x",
        "outputId": "cb42ceb0-b388-48b9-aa1e-34866eb34649"
      },
      "source": [
        "# Evaluación de residuos (evaluación de entrenamiento)\n",
        "accuracy_train_nn_face = model_nn_face.score(z_train_nn_face,y_train_nn_face)\n",
        "print('Exactitud en entrenamiento:', accuracy_train_nn_face)\n",
        "\n",
        "# Evaluación de prueba\n",
        "accuracy_test_nn_face = model_nn_face.score(z_test_nn_face,y_test_nn_face)\n",
        "print('Exactitud en prueba:', accuracy_test_nn_face) "
      ],
      "execution_count": null,
      "outputs": [
        {
          "output_type": "stream",
          "text": [
            "Exactitud en entrenamiento: 0.9223842491684493\n",
            "Exactitud en prueba: 0.908989714476135\n"
          ],
          "name": "stdout"
        }
      ]
    },
    {
      "cell_type": "markdown",
      "metadata": {
        "id": "g3bS0d_T0M5x"
      },
      "source": [
        "*Lip Makeup*"
      ]
    },
    {
      "cell_type": "markdown",
      "metadata": {
        "id": "MFLNVS0b0M5x"
      },
      "source": [
        "*Training*"
      ]
    },
    {
      "cell_type": "code",
      "metadata": {
        "colab": {
          "base_uri": "https://localhost:8080/"
        },
        "id": "4wlCbGZG0M5x",
        "outputId": "4b7d0de4-4036-43ca-e13e-69a90d608aef"
      },
      "source": [
        "x_nn_lip = x_lip\n",
        "y_nn_lip = y_lip\n",
        "\n",
        "x_train_nn_lip, x_test_nn_lip, y_train_nn_lip, y_test_nn_lip = train_test_split(x_nn_lip, y_nn_lip, test_size=0.3)\n",
        "\n",
        "standarization = StandardScaler()\n",
        "standarization.fit(x_train_nn_lip)\n",
        "\n",
        "z_train_nn_lip = standarization.transform(x_train_nn_lip)\n",
        "z_test_nn_lip = standarization.transform(x_test_nn_lip)\n",
        "\n",
        "\n",
        "model_nn_lip = MLPRegressor( hidden_layer_sizes=(20,20,20,20,20) )\n",
        "model_nn_lip.fit(z_train_nn_lip, y_train_nn_lip) "
      ],
      "execution_count": null,
      "outputs": [
        {
          "output_type": "stream",
          "text": [
            "/usr/local/lib/python3.7/dist-packages/sklearn/neural_network/_multilayer_perceptron.py:571: ConvergenceWarning: Stochastic Optimizer: Maximum iterations (200) reached and the optimization hasn't converged yet.\n",
            "  % self.max_iter, ConvergenceWarning)\n"
          ],
          "name": "stderr"
        },
        {
          "output_type": "execute_result",
          "data": {
            "text/plain": [
              "MLPRegressor(activation='relu', alpha=0.0001, batch_size='auto', beta_1=0.9,\n",
              "             beta_2=0.999, early_stopping=False, epsilon=1e-08,\n",
              "             hidden_layer_sizes=(20, 20, 20, 20, 20), learning_rate='constant',\n",
              "             learning_rate_init=0.001, max_fun=15000, max_iter=200,\n",
              "             momentum=0.9, n_iter_no_change=10, nesterovs_momentum=True,\n",
              "             power_t=0.5, random_state=None, shuffle=True, solver='adam',\n",
              "             tol=0.0001, validation_fraction=0.1, verbose=False,\n",
              "             warm_start=False)"
            ]
          },
          "metadata": {
            "tags": []
          },
          "execution_count": 87
        }
      ]
    },
    {
      "cell_type": "markdown",
      "metadata": {
        "id": "lyDD5tV_0M5y"
      },
      "source": [
        "*Testing*"
      ]
    },
    {
      "cell_type": "code",
      "metadata": {
        "colab": {
          "base_uri": "https://localhost:8080/"
        },
        "id": "pZocvCDu0M5y",
        "outputId": "cf312948-05fd-4890-83ab-3709fb559b38"
      },
      "source": [
        "y_pred_nn_lip = model_nn_lip.predict(z_test_nn_lip) \n",
        "score = model_nn_lip.score(z_test_nn_lip, y_pred_nn_lip)\n",
        "\n",
        "print(\"R^2 :\",score)"
      ],
      "execution_count": null,
      "outputs": [
        {
          "output_type": "stream",
          "text": [
            "R^2 : 1.0\n"
          ],
          "name": "stdout"
        }
      ]
    },
    {
      "cell_type": "code",
      "metadata": {
        "colab": {
          "base_uri": "https://localhost:8080/",
          "height": 279
        },
        "id": "OXV0DbRp0M5y",
        "outputId": "cdedac3c-f11a-49f6-ddd3-04d4e0132671"
      },
      "source": [
        "plt.scatter(y_test_nn_lip,y_pred_nn_lip,color=\"black\")\n",
        "plt.plot([0,np.max(y_test_nn_lip)],[0,np.max(y_test_nn_lip)],color=\"blue\")\n",
        "plt.xlabel(\"Original\")\n",
        "plt.ylabel(\"Estimates\")\n",
        "plt.show() "
      ],
      "execution_count": null,
      "outputs": [
        {
          "output_type": "display_data",
          "data": {
            "image/png": "[encoded data removed]",
            "text/plain": [
              "<Figure size 432x288 with 1 Axes>"
            ]
          },
          "metadata": {
            "tags": [],
            "needs_background": "light"
          }
        }
      ]
    },
    {
      "cell_type": "markdown",
      "metadata": {
        "id": "WJHZMdfS0M5y"
      },
      "source": [
        "*Evaluación de modelos*"
      ]
    },
    {
      "cell_type": "code",
      "metadata": {
        "colab": {
          "base_uri": "https://localhost:8080/"
        },
        "id": "SatjToQs0M5z",
        "outputId": "a7c8f547-3ac0-4439-9de9-5be765be4087"
      },
      "source": [
        "# Evaluación de residuos (evaluación de entrenamiento)\n",
        "accuracy_train_nn_lip = model_nn_lip.score(z_train_nn_lip,y_train_nn_lip)\n",
        "print('Exactitud en entrenamiento:', accuracy_train_nn_lip)\n",
        "\n",
        "# Evaluación de prueba\n",
        "accuracy_test_nn_lip = model_nn_lip.score(z_test_nn_lip,y_test_nn_lip)\n",
        "print('Exactitud en prueba:', accuracy_test_svm_lip) "
      ],
      "execution_count": null,
      "outputs": [
        {
          "output_type": "stream",
          "text": [
            "Exactitud en entrenamiento: 0.9506056190895196\n",
            "Exactitud en prueba: 0.9288817314970919\n"
          ],
          "name": "stdout"
        }
      ]
    },
    {
      "cell_type": "markdown",
      "metadata": {
        "id": "hCEdXVwN0M5z"
      },
      "source": [
        "*Nail Makeup*"
      ]
    },
    {
      "cell_type": "markdown",
      "metadata": {
        "id": "Vlj9091z0M5z"
      },
      "source": [
        "*Training*"
      ]
    },
    {
      "cell_type": "code",
      "metadata": {
        "colab": {
          "base_uri": "https://localhost:8080/"
        },
        "id": "SbTW9aKv0M5z",
        "outputId": "6dee3b5c-66f1-43dd-e3a6-967e1bf46e69"
      },
      "source": [
        "x_nn_nail = x_nail\n",
        "y_nn_nail = y_nail\n",
        "\n",
        "x_train_nn_nail, x_test_nn_nail, y_train_nn_nail, y_test_nn_nail = train_test_split(x_nn_nail, y_nn_nail, test_size=0.3)\n",
        "\n",
        "standarization = StandardScaler()\n",
        "standarization.fit(x_train_nn_nail)\n",
        "\n",
        "z_train_nn_nail = standarization.transform(x_train_nn_nail)\n",
        "z_test_nn_nail = standarization.transform(x_test_nn_nail)\n",
        "\n",
        "\n",
        "model_nn_nail = MLPRegressor( hidden_layer_sizes=(20,20,20,20) )\n",
        "model_nn_nail.fit(z_train_nn_nail, y_train_nn_nail) "
      ],
      "execution_count": null,
      "outputs": [
        {
          "output_type": "stream",
          "text": [
            "/usr/local/lib/python3.7/dist-packages/sklearn/neural_network/_multilayer_perceptron.py:571: ConvergenceWarning: Stochastic Optimizer: Maximum iterations (200) reached and the optimization hasn't converged yet.\n",
            "  % self.max_iter, ConvergenceWarning)\n"
          ],
          "name": "stderr"
        },
        {
          "output_type": "execute_result",
          "data": {
            "text/plain": [
              "MLPRegressor(activation='relu', alpha=0.0001, batch_size='auto', beta_1=0.9,\n",
              "             beta_2=0.999, early_stopping=False, epsilon=1e-08,\n",
              "             hidden_layer_sizes=(20, 20, 20, 20), learning_rate='constant',\n",
              "             learning_rate_init=0.001, max_fun=15000, max_iter=200,\n",
              "             momentum=0.9, n_iter_no_change=10, nesterovs_momentum=True,\n",
              "             power_t=0.5, random_state=None, shuffle=True, solver='adam',\n",
              "             tol=0.0001, validation_fraction=0.1, verbose=False,\n",
              "             warm_start=False)"
            ]
          },
          "metadata": {
            "tags": []
          },
          "execution_count": 122
        }
      ]
    },
    {
      "cell_type": "markdown",
      "metadata": {
        "id": "auumE5h70M5z"
      },
      "source": [
        "*Testing*"
      ]
    },
    {
      "cell_type": "code",
      "metadata": {
        "colab": {
          "base_uri": "https://localhost:8080/"
        },
        "id": "VnxMIQG90M50",
        "outputId": "5b791b3e-16e6-40d0-a6db-892beedee41a"
      },
      "source": [
        "y_pred_nn_nail = model_nn_nail.predict(z_test_nn_nail) \n",
        "score = model_nn_nail.score(z_test_nn_nail, y_pred_nn_nail)\n",
        "\n",
        "print(\"R^2 :\",score)"
      ],
      "execution_count": null,
      "outputs": [
        {
          "output_type": "stream",
          "text": [
            "R^2 : 1.0\n"
          ],
          "name": "stdout"
        }
      ]
    },
    {
      "cell_type": "code",
      "metadata": {
        "colab": {
          "base_uri": "https://localhost:8080/",
          "height": 279
        },
        "id": "03qIIjXB0M50",
        "outputId": "5b9d411f-64b4-4590-fabd-b9bf6175f3c3"
      },
      "source": [
        "plt.scatter(y_test_nn_nail,y_pred_nn_nail,color=\"black\")\n",
        "plt.plot([0,np.max(y_test_nn_nail)],[0,np.max(y_test_nn_nail)],color=\"blue\")\n",
        "plt.xlabel(\"Original\")\n",
        "plt.ylabel(\"Estimates\")\n",
        "plt.show() "
      ],
      "execution_count": null,
      "outputs": [
        {
          "output_type": "display_data",
          "data": {
            "image/png": "[encoded data removed]",
            "text/plain": [
              "<Figure size 432x288 with 1 Axes>"
            ]
          },
          "metadata": {
            "tags": [],
            "needs_background": "light"
          }
        }
      ]
    },
    {
      "cell_type": "markdown",
      "metadata": {
        "id": "5NxRc5a00M50"
      },
      "source": [
        "*Evaluación de modelos*"
      ]
    },
    {
      "cell_type": "code",
      "metadata": {
        "colab": {
          "base_uri": "https://localhost:8080/"
        },
        "id": "of-cDvPO0M50",
        "outputId": "32a1a558-7543-48f7-9067-09e600135137"
      },
      "source": [
        "# Evaluación de residuos (evaluación de entrenamiento)\n",
        "accuracy_train_nn_nail = model_nn_nail.score(z_train_nn_nail,y_train_nn_nail)\n",
        "print('Exactitud en entrenamiento:', accuracy_train_nn_nail)\n",
        "\n",
        "# Evaluación de prueba\n",
        "accuracy_test_nn_nail = model_nn_nail.score(z_test_nn_nail,y_test_nn_nail)\n",
        "print('Exactitud en prueba:', accuracy_test_nn_nail) "
      ],
      "execution_count": null,
      "outputs": [
        {
          "output_type": "stream",
          "text": [
            "Exactitud en entrenamiento: 0.8326028919509302\n",
            "Exactitud en prueba: 0.7943336472452102\n"
          ],
          "name": "stdout"
        }
      ]
    }
  ]
}